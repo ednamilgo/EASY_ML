{
  "cells": [
    {
      "cell_type": "markdown",
      "metadata": {
        "id": "view-in-github",
        "colab_type": "text"
      },
      "source": [
        "<a href=\"https://colab.research.google.com/github/ednamilgo/EASY_ML/blob/main/4_(d)_Practicals_CNN_TensorFlow_MNIST.ipynb\" target=\"_parent\"><img src=\"https://colab.research.google.com/assets/colab-badge.svg\" alt=\"Open In Colab\"/></a>"
      ]
    },
    {
      "cell_type": "markdown",
      "id": "16c5da31",
      "metadata": {
        "id": "16c5da31"
      },
      "source": [
        "# CNN for MNIST Digit Classification using TensorFlow/Keras"
      ]
    },
    {
      "cell_type": "code",
      "execution_count": null,
      "id": "05d9c752",
      "metadata": {
        "id": "05d9c752",
        "outputId": "f0cea480-fd9d-4d86-d31c-2f9c1c9517a5"
      },
      "outputs": [
        {
          "name": "stderr",
          "output_type": "stream",
          "text": [
            "2025-04-09 11:00:57.367339: I tensorflow/core/platform/cpu_feature_guard.cc:210] This TensorFlow binary is optimized to use available CPU instructions in performance-critical operations.\n",
            "To enable the following instructions: AVX2 FMA, in other operations, rebuild TensorFlow with the appropriate compiler flags.\n"
          ]
        }
      ],
      "source": [
        "import tensorflow as tf\n",
        "from tensorflow.keras import layers, models\n",
        "import matplotlib.pyplot as plt"
      ]
    },
    {
      "cell_type": "markdown",
      "id": "c6bc8fba",
      "metadata": {
        "id": "c6bc8fba"
      },
      "source": [
        "## Step 1: Load and Preprocess the MNIST Dataset"
      ]
    },
    {
      "cell_type": "code",
      "execution_count": null,
      "id": "91c66577",
      "metadata": {
        "id": "91c66577"
      },
      "outputs": [],
      "source": [
        "(x_train, y_train), (x_test, y_test) = tf.keras.datasets.mnist.load_data()\n",
        "\n",
        "x_train = x_train.astype('float32') / 255.0\n",
        "x_test = x_test.astype('float32') / 255.0\n",
        "\n",
        "x_train = x_train[..., tf.newaxis]\n",
        "x_test = x_test[..., tf.newaxis]"
      ]
    },
    {
      "cell_type": "code",
      "execution_count": null,
      "id": "81f828b7-c09c-4f27-9a80-b0aa52a52370",
      "metadata": {
        "id": "81f828b7-c09c-4f27-9a80-b0aa52a52370"
      },
      "outputs": [],
      "source": []
    },
    {
      "cell_type": "code",
      "execution_count": null,
      "id": "9b6cd6b8-99d1-49c1-a00d-4fa23cb3baa1",
      "metadata": {
        "id": "9b6cd6b8-99d1-49c1-a00d-4fa23cb3baa1"
      },
      "outputs": [],
      "source": [
        "# # Path to the directory where your dataset is stored\n",
        "# data_dir = \"path/to/your_dataset\"\n",
        "\n",
        "# # Load the training and validation datasets\n",
        "# train_ds = tf.keras.preprocessing.image_dataset_from_directory(\n",
        "#     directory=os.path.join(data_dir, \"train\"),\n",
        "#     label_mode=\"int\",  # Labels will be returned as integers\n",
        "#     image_size=(128, 128),  # Resize all images to the same size\n",
        "#     batch_size=32,  # Number of images to process at once\n",
        "# )\n",
        "\n",
        "# test_ds = tf.keras.preprocessing.image_dataset_from_directory(\n",
        "#     directory=os.path.join(data_dir, \"val\"),\n",
        "#     label_mode=\"int\",  # Labels will be returned as integers\n",
        "#     image_size=(128, 128),  # Resize all images to the same size\n",
        "#     batch_size=32,  # Number of images to process at once\n",
        "# )"
      ]
    },
    {
      "cell_type": "code",
      "execution_count": null,
      "id": "036d797a-ef42-4049-abb7-0dbca55eb34f",
      "metadata": {
        "id": "036d797a-ef42-4049-abb7-0dbca55eb34f"
      },
      "outputs": [],
      "source": []
    },
    {
      "cell_type": "markdown",
      "id": "c65c7221",
      "metadata": {
        "id": "c65c7221"
      },
      "source": [
        "## Step 2: Visualize a Sample Image"
      ]
    },
    {
      "cell_type": "code",
      "execution_count": null,
      "id": "993304a3",
      "metadata": {
        "id": "993304a3",
        "outputId": "4d888d08-7b96-44fa-d9c9-79860f6edab7"
      },
      "outputs": [
        {
          "data": {
            "image/png": "[encoded data removed]",
            "text/plain": [
              "<Figure size 640x480 with 1 Axes>"
            ]
          },
          "metadata": {},
          "output_type": "display_data"
        }
      ],
      "source": [
        "plt.imshow(x_train[7].squeeze(), cmap='gray')\n",
        "plt.title(f\"Label: {y_train[0]}\")\n",
        "plt.show()"
      ]
    },
    {
      "cell_type": "markdown",
      "id": "552cd6b0",
      "metadata": {
        "id": "552cd6b0"
      },
      "source": [
        "## Step 4: Define the CNN Model"
      ]
    },
    {
      "cell_type": "code",
      "execution_count": null,
      "id": "0c5729d0",
      "metadata": {
        "id": "0c5729d0",
        "outputId": "c2d720dc-55c6-4758-d633-feba3b4ace24"
      },
      "outputs": [
        {
          "name": "stderr",
          "output_type": "stream",
          "text": [
            "/opt/anaconda3/lib/python3.11/site-packages/keras/src/layers/convolutional/base_conv.py:107: UserWarning: Do not pass an `input_shape`/`input_dim` argument to a layer. When using Sequential models, prefer using an `Input(shape)` object as the first layer in the model instead.\n",
            "  super().__init__(activity_regularizer=activity_regularizer, **kwargs)\n"
          ]
        }
      ],
      "source": [
        "model = models.Sequential([\n",
        "    layers.Conv2D(32, (3, 3), activation='relu', input_shape=(28, 28, 1)),# Conv Layer\n",
        "    layers.MaxPooling2D((2, 2)),# Pooling Layer\n",
        "    layers.Conv2D(64, (3, 3), activation='relu'),\n",
        "    layers.MaxPooling2D((2, 2)),\n",
        "    layers.Flatten(),\n",
        "    layers.Dense(128, activation='relu'),# Fully connected Layer\n",
        "    layers.Dense(10)\n",
        "])"
      ]
    },
    {
      "cell_type": "markdown",
      "id": "7bd6f77a",
      "metadata": {
        "id": "7bd6f77a"
      },
      "source": [
        "## Step 5: Compile the Model"
      ]
    },
    {
      "cell_type": "code",
      "execution_count": null,
      "id": "895b8a1b-da20-462e-9bdf-b78ab70fe778",
      "metadata": {
        "id": "895b8a1b-da20-462e-9bdf-b78ab70fe778"
      },
      "outputs": [],
      "source": []
    },
    {
      "cell_type": "code",
      "execution_count": null,
      "id": "2a8207c5",
      "metadata": {
        "id": "2a8207c5"
      },
      "outputs": [],
      "source": [
        "model.compile(\n",
        "    optimizer='adam',\n",
        "    loss=tf.keras.losses.SparseCategoricalCrossentropy(from_logits=True),\n",
        "    metrics=['accuracy']\n",
        ")"
      ]
    },
    {
      "cell_type": "markdown",
      "id": "46256cd2",
      "metadata": {
        "id": "46256cd2"
      },
      "source": [
        "## Step 6: Train the Model"
      ]
    },
    {
      "cell_type": "code",
      "execution_count": null,
      "id": "c6db159e",
      "metadata": {
        "id": "c6db159e",
        "outputId": "52dce331-3b1c-42f3-8291-c70fefb6a83a"
      },
      "outputs": [
        {
          "name": "stdout",
          "output_type": "stream",
          "text": [
            "Epoch 1/5\n",
            "\u001b[1m844/844\u001b[0m \u001b[32m━━━━━━━━━━━━━━━━━━━━\u001b[0m\u001b[37m\u001b[0m \u001b[1m90s\u001b[0m 103ms/step - accuracy: 0.8796 - loss: 0.4020 - val_accuracy: 0.9805 - val_loss: 0.0701\n",
            "Epoch 2/5\n",
            "\u001b[1m844/844\u001b[0m \u001b[32m━━━━━━━━━━━━━━━━━━━━\u001b[0m\u001b[37m\u001b[0m \u001b[1m53s\u001b[0m 62ms/step - accuracy: 0.9823 - loss: 0.0584 - val_accuracy: 0.9877 - val_loss: 0.0410\n",
            "Epoch 3/5\n",
            "\u001b[1m844/844\u001b[0m \u001b[32m━━━━━━━━━━━━━━━━━━━━\u001b[0m\u001b[37m\u001b[0m \u001b[1m132s\u001b[0m 121ms/step - accuracy: 0.9881 - loss: 0.0390 - val_accuracy: 0.9902 - val_loss: 0.0328\n",
            "Epoch 4/5\n",
            "\u001b[1m844/844\u001b[0m \u001b[32m━━━━━━━━━━━━━━━━━━━━\u001b[0m\u001b[37m\u001b[0m \u001b[1m131s\u001b[0m 108ms/step - accuracy: 0.9920 - loss: 0.0260 - val_accuracy: 0.9902 - val_loss: 0.0348\n",
            "Epoch 5/5\n",
            "\u001b[1m844/844\u001b[0m \u001b[32m━━━━━━━━━━━━━━━━━━━━\u001b[0m\u001b[37m\u001b[0m \u001b[1m129s\u001b[0m 92ms/step - accuracy: 0.9933 - loss: 0.0201 - val_accuracy: 0.9913 - val_loss: 0.0319\n"
          ]
        },
        {
          "data": {
            "text/plain": [
              "<keras.src.callbacks.history.History at 0x163bf0110>"
            ]
          },
          "execution_count": 11,
          "metadata": {},
          "output_type": "execute_result"
        }
      ],
      "source": [
        "model.fit(x_train, y_train, epochs=5, batch_size=64, validation_split=0.1)"
      ]
    },
    {
      "cell_type": "markdown",
      "id": "0d4518db",
      "metadata": {
        "id": "0d4518db"
      },
      "source": [
        "## Step 7: Evaluate the Model"
      ]
    },
    {
      "cell_type": "code",
      "execution_count": null,
      "id": "359578e0",
      "metadata": {
        "id": "359578e0",
        "outputId": "f87b0ea0-2560-4bee-8ec1-7da7e1619511"
      },
      "outputs": [
        {
          "name": "stdout",
          "output_type": "stream",
          "text": [
            "313/313 - 4s - 13ms/step - accuracy: 0.9900 - loss: 0.0283\n",
            "\n",
            "Test accuracy: 99.00%\n"
          ]
        }
      ],
      "source": [
        "test_loss, test_acc = model.evaluate(x_test, y_test, verbose=2)\n",
        "print(f\"\\nTest accuracy: {test_acc:.2%}\")"
      ]
    },
    {
      "cell_type": "markdown",
      "id": "a4b08fc8",
      "metadata": {
        "id": "a4b08fc8"
      },
      "source": [
        "## Step 8: Predict a Sample Image"
      ]
    },
    {
      "cell_type": "code",
      "execution_count": null,
      "id": "6ff869f0",
      "metadata": {
        "id": "6ff869f0",
        "outputId": "69480b83-1cab-40a3-fb64-836ce81d12d6"
      },
      "outputs": [
        {
          "name": "stdout",
          "output_type": "stream",
          "text": [
            "\u001b[1m313/313\u001b[0m \u001b[32m━━━━━━━━━━━━━━━━━━━━\u001b[0m\u001b[37m\u001b[0m \u001b[1m6s\u001b[0m 17ms/step\n"
          ]
        },
        {
          "data": {
            "image/png": "[encoded data removed]",
            "text/plain": [
              "<Figure size 640x480 with 1 Axes>"
            ]
          },
          "metadata": {},
          "output_type": "display_data"
        }
      ],
      "source": [
        "import numpy as np\n",
        "\n",
        "prob_model = tf.keras.Sequential([model, layers.Softmax()])\n",
        "predictions = prob_model.predict(x_test)\n",
        "\n",
        "sample_index = 0\n",
        "plt.imshow(x_test[sample_index].squeeze(), cmap='gray')\n",
        "plt.title(f\"Predicted: {np.argmax(predictions[sample_index])} | Actual: {y_test[sample_index]}\")\n",
        "plt.show()"
      ]
    },
    {
      "cell_type": "markdown",
      "id": "97e1c0da",
      "metadata": {
        "id": "97e1c0da"
      },
      "source": [
        "## Summary\n",
        "\n",
        "| Layer            | Function                          |\n",
        "|------------------|-----------------------------------|\n",
        "| `Conv2D`         | Learns local image features       |\n",
        "| `MaxPooling2D`   | Reduces spatial dimensions        |\n",
        "| `Flatten`        | Converts 2D to 1D vector          |\n",
        "| `Dense`          | Fully connected decision layer    |\n",
        "| `Softmax`        | Converts logits to probabilities  |"
      ]
    },
    {
      "cell_type": "code",
      "execution_count": null,
      "id": "94e78f36-e33b-4bbb-8772-ebd9162ebc95",
      "metadata": {
        "id": "94e78f36-e33b-4bbb-8772-ebd9162ebc95"
      },
      "outputs": [],
      "source": []
    }
  ],
  "metadata": {
    "kernelspec": {
      "display_name": "Python 3 (ipykernel)",
      "language": "python",
      "name": "python3"
    },
    "language_info": {
      "codemirror_mode": {
        "name": "ipython",
        "version": 3
      },
      "file_extension": ".py",
      "mimetype": "text/x-python",
      "name": "python",
      "nbconvert_exporter": "python",
      "pygments_lexer": "ipython3",
      "version": "3.11.7"
    },
    "colab": {
      "provenance": [],
      "include_colab_link": true
    }
  },
  "nbformat": 4,
  "nbformat_minor": 5
}