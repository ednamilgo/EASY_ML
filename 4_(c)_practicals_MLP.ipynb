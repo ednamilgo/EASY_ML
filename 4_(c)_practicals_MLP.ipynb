{
  "cells": [
    {
      "cell_type": "markdown",
      "metadata": {
        "id": "view-in-github",
        "colab_type": "text"
      },
      "source": [
        "<a href=\"https://colab.research.google.com/github/ednamilgo/EASY_ML/blob/main/4_(c)_practicals_MLP.ipynb\" target=\"_parent\"><img src=\"https://colab.research.google.com/assets/colab-badge.svg\" alt=\"Open In Colab\"/></a>"
      ]
    },
    {
      "cell_type": "markdown",
      "metadata": {
        "id": "xrKKSHEFD8Di"
      },
      "source": [
        "# How To Build MLP  for iris dataset with Scikit-learn"
      ]
    },
    {
      "cell_type": "markdown",
      "metadata": {
        "id": "q2fTcaKkD8Dq"
      },
      "source": [
        "# Step 1: Import the basic libraries"
      ]
    },
    {
      "cell_type": "code",
      "execution_count": null,
      "metadata": {
        "id": "CEMSkIKBD8Ds"
      },
      "outputs": [],
      "source": [
        "import numpy as np\n",
        "import matplotlib.pyplot as plt\n"
      ]
    },
    {
      "cell_type": "markdown",
      "metadata": {
        "id": "6I1dDcYhD8Dv"
      },
      "source": [
        "# Import all the necessary libraries for classification\n",
        "In this case we need sklearn Perceptron which is in linear models group, we need the train split function which is in the metrics group and we need pandas\n",
        "Step 1:\n",
        "Step2"
      ]
    },
    {
      "cell_type": "markdown",
      "metadata": {
        "id": "63qOEAm1D8Dw"
      },
      "source": [
        "Pandas library for handling of data in column and row formart together with retrieving and editing the dataset"
      ]
    },
    {
      "cell_type": "code",
      "execution_count": null,
      "metadata": {
        "id": "tumfUiBqD8Dx"
      },
      "outputs": [],
      "source": [
        "from sklearn.neural_network import MLPRegressor\n",
        "from sklearn.model_selection import train_test_split\n",
        "\n",
        "\n",
        "# from sklearn.preprocessing import StandardScaler as scaler # for preprocessing\n",
        "from sklearn.metrics import mean_squared_error,r2_score\n",
        "\n",
        "import pandas as pd"
      ]
    },
    {
      "cell_type": "markdown",
      "metadata": {
        "id": "oN0LYFoaD8Dz"
      },
      "source": [
        "# Step 2: Load the dataset to the platform"
      ]
    },
    {
      "cell_type": "markdown",
      "metadata": {
        "id": "aX6A3aFAD8D1"
      },
      "source": [
        "The Pandas library has an easy way to load in data, read_csv():\n",
        "\n",
        "Ensure that you have saved the data file in the same folder as the code. Also ensure it is in CSV format.\n",
        "\n",
        "NOTE that sklearn has several datasets including iris which is inbuild and has a different way of loading, but for this class we will stick to loading data from an external source which has been downloaded and saved in the same folder as the code"
      ]
    },
    {
      "cell_type": "code",
      "execution_count": null,
      "metadata": {
        "id": "rmmeHf4UD8D2"
      },
      "outputs": [],
      "source": [
        "# Load the housing sales dataset\n",
        "df_data = pd.read_csv('datasets/housing.csv')"
      ]
    },
    {
      "cell_type": "markdown",
      "metadata": {
        "id": "tk0gPmw4D8D4"
      },
      "source": [
        "In ordervto view the data, how they are arranged we can use the head() function which shows the first 5 rows of data. To see the last five we use iris.head(-5)"
      ]
    },
    {
      "cell_type": "code",
      "execution_count": null,
      "metadata": {
        "id": "l96TDXgMD8D5",
        "outputId": "aeaa9dfd-68d9-4a7c-eee7-45b7f510b849"
      },
      "outputs": [
        {
          "data": {
            "text/html": [
              "<div>\n",
              "<style scoped>\n",
              "    .dataframe tbody tr th:only-of-type {\n",
              "        vertical-align: middle;\n",
              "    }\n",
              "\n",
              "    .dataframe tbody tr th {\n",
              "        vertical-align: top;\n",
              "    }\n",
              "\n",
              "    .dataframe thead th {\n",
              "        text-align: right;\n",
              "    }\n",
              "</style>\n",
              "<table border=\"1\" class=\"dataframe\">\n",
              "  <thead>\n",
              "    <tr style=\"text-align: right;\">\n",
              "      <th></th>\n",
              "      <th>Avg. Area Income</th>\n",
              "      <th>Avg. Area House Age</th>\n",
              "      <th>Avg. Area Number of Rooms</th>\n",
              "      <th>Avg. Area Number of Bedrooms</th>\n",
              "      <th>Area Population</th>\n",
              "      <th>Price</th>\n",
              "      <th>Address</th>\n",
              "    </tr>\n",
              "  </thead>\n",
              "  <tbody>\n",
              "    <tr>\n",
              "      <th>0</th>\n",
              "      <td>79545.45857</td>\n",
              "      <td>5.682861</td>\n",
              "      <td>7.009188</td>\n",
              "      <td>4.09</td>\n",
              "      <td>23086.80050</td>\n",
              "      <td>1.059034e+06</td>\n",
              "      <td>208 Michael Ferry Apt. 674\\nLaurabury, NE 3701...</td>\n",
              "    </tr>\n",
              "    <tr>\n",
              "      <th>1</th>\n",
              "      <td>79248.64245</td>\n",
              "      <td>6.002900</td>\n",
              "      <td>6.730821</td>\n",
              "      <td>3.09</td>\n",
              "      <td>40173.07217</td>\n",
              "      <td>1.505891e+06</td>\n",
              "      <td>188 Johnson Views Suite 079\\nLake Kathleen, CA...</td>\n",
              "    </tr>\n",
              "    <tr>\n",
              "      <th>2</th>\n",
              "      <td>61287.06718</td>\n",
              "      <td>5.865890</td>\n",
              "      <td>8.512727</td>\n",
              "      <td>5.13</td>\n",
              "      <td>36882.15940</td>\n",
              "      <td>1.058988e+06</td>\n",
              "      <td>9127 Elizabeth Stravenue\\nDanieltown, WI 06482...</td>\n",
              "    </tr>\n",
              "    <tr>\n",
              "      <th>3</th>\n",
              "      <td>63345.24005</td>\n",
              "      <td>7.188236</td>\n",
              "      <td>5.586729</td>\n",
              "      <td>3.26</td>\n",
              "      <td>34310.24283</td>\n",
              "      <td>1.260617e+06</td>\n",
              "      <td>USS Barnett\\nFPO AP 44820</td>\n",
              "    </tr>\n",
              "    <tr>\n",
              "      <th>4</th>\n",
              "      <td>59982.19723</td>\n",
              "      <td>5.040555</td>\n",
              "      <td>7.839388</td>\n",
              "      <td>4.23</td>\n",
              "      <td>26354.10947</td>\n",
              "      <td>6.309435e+05</td>\n",
              "      <td>USNS Raymond\\nFPO AE 09386</td>\n",
              "    </tr>\n",
              "  </tbody>\n",
              "</table>\n",
              "</div>"
            ],
            "text/plain": [
              "   Avg. Area Income  Avg. Area House Age  Avg. Area Number of Rooms  \\\n",
              "0       79545.45857             5.682861                   7.009188   \n",
              "1       79248.64245             6.002900                   6.730821   \n",
              "2       61287.06718             5.865890                   8.512727   \n",
              "3       63345.24005             7.188236                   5.586729   \n",
              "4       59982.19723             5.040555                   7.839388   \n",
              "\n",
              "   Avg. Area Number of Bedrooms  Area Population         Price  \\\n",
              "0                          4.09      23086.80050  1.059034e+06   \n",
              "1                          3.09      40173.07217  1.505891e+06   \n",
              "2                          5.13      36882.15940  1.058988e+06   \n",
              "3                          3.26      34310.24283  1.260617e+06   \n",
              "4                          4.23      26354.10947  6.309435e+05   \n",
              "\n",
              "                                             Address  \n",
              "0  208 Michael Ferry Apt. 674\\nLaurabury, NE 3701...  \n",
              "1  188 Johnson Views Suite 079\\nLake Kathleen, CA...  \n",
              "2  9127 Elizabeth Stravenue\\nDanieltown, WI 06482...  \n",
              "3                          USS Barnett\\nFPO AP 44820  \n",
              "4                         USNS Raymond\\nFPO AE 09386  "
            ]
          },
          "execution_count": 4,
          "metadata": {},
          "output_type": "execute_result"
        }
      ],
      "source": [
        "df_data.head()"
      ]
    },
    {
      "cell_type": "code",
      "execution_count": null,
      "metadata": {
        "id": "WIORyvrpD8D6",
        "outputId": "9bf6b296-cc56-4090-b035-8198e355ae5a"
      },
      "outputs": [
        {
          "name": "stdout",
          "output_type": "stream",
          "text": [
            "<class 'pandas.core.frame.DataFrame'>\n",
            "RangeIndex: 5000 entries, 0 to 4999\n",
            "Data columns (total 7 columns):\n",
            " #   Column                        Non-Null Count  Dtype  \n",
            "---  ------                        --------------  -----  \n",
            " 0   Avg. Area Income              5000 non-null   float64\n",
            " 1   Avg. Area House Age           5000 non-null   float64\n",
            " 2   Avg. Area Number of Rooms     5000 non-null   float64\n",
            " 3   Avg. Area Number of Bedrooms  5000 non-null   float64\n",
            " 4   Area Population               5000 non-null   float64\n",
            " 5   Price                         5000 non-null   float64\n",
            " 6   Address                       5000 non-null   object \n",
            "dtypes: float64(6), object(1)\n",
            "memory usage: 273.6+ KB\n"
          ]
        }
      ],
      "source": [
        "df_data.info()"
      ]
    },
    {
      "cell_type": "markdown",
      "metadata": {
        "id": "CKfTDT4AD8D7"
      },
      "source": [
        "# Step 3: Preprocessing\n",
        "\n",
        "This is an important step especially if the dataset is not even, or not normalized. It is also called data cleaning.\n",
        "In some cases the data you get is already cleaned therefore you may not need this step.\n",
        "\n",
        "It is good to scale your all your data both training and testing data before you use it."
      ]
    },
    {
      "cell_type": "code",
      "execution_count": null,
      "metadata": {
        "id": "kareG5U6D8D8"
      },
      "outputs": [],
      "source": [
        "from sklearn.preprocessing import StandardScaler  # for preprocessing\n",
        "scaler = StandardScaler()"
      ]
    },
    {
      "cell_type": "code",
      "execution_count": null,
      "metadata": {
        "id": "Sp3dmUdWD8D8"
      },
      "outputs": [],
      "source": [
        "# from sklearn.preprocessing import StandardScaler as scaler  # for preprocessing\n",
        "# scaler = StandardScaler()"
      ]
    },
    {
      "cell_type": "code",
      "execution_count": null,
      "metadata": {
        "id": "MzHKHcCrD8D9"
      },
      "outputs": [],
      "source": [
        "df_data.drop('Address' , axis=1, inplace=True)"
      ]
    },
    {
      "cell_type": "code",
      "execution_count": null,
      "metadata": {
        "id": "QAbBu2F5D8D9",
        "outputId": "62eae4f3-6476-46c6-dcfc-9bd2d874622b"
      },
      "outputs": [
        {
          "data": {
            "text/html": [
              "<div>\n",
              "<style scoped>\n",
              "    .dataframe tbody tr th:only-of-type {\n",
              "        vertical-align: middle;\n",
              "    }\n",
              "\n",
              "    .dataframe tbody tr th {\n",
              "        vertical-align: top;\n",
              "    }\n",
              "\n",
              "    .dataframe thead th {\n",
              "        text-align: right;\n",
              "    }\n",
              "</style>\n",
              "<table border=\"1\" class=\"dataframe\">\n",
              "  <thead>\n",
              "    <tr style=\"text-align: right;\">\n",
              "      <th></th>\n",
              "      <th>Avg. Area Income</th>\n",
              "      <th>Avg. Area House Age</th>\n",
              "      <th>Avg. Area Number of Rooms</th>\n",
              "      <th>Avg. Area Number of Bedrooms</th>\n",
              "      <th>Area Population</th>\n",
              "      <th>Price</th>\n",
              "    </tr>\n",
              "  </thead>\n",
              "  <tbody>\n",
              "    <tr>\n",
              "      <th>0</th>\n",
              "      <td>79545.45857</td>\n",
              "      <td>5.682861</td>\n",
              "      <td>7.009188</td>\n",
              "      <td>4.09</td>\n",
              "      <td>23086.80050</td>\n",
              "      <td>1.059034e+06</td>\n",
              "    </tr>\n",
              "    <tr>\n",
              "      <th>1</th>\n",
              "      <td>79248.64245</td>\n",
              "      <td>6.002900</td>\n",
              "      <td>6.730821</td>\n",
              "      <td>3.09</td>\n",
              "      <td>40173.07217</td>\n",
              "      <td>1.505891e+06</td>\n",
              "    </tr>\n",
              "    <tr>\n",
              "      <th>2</th>\n",
              "      <td>61287.06718</td>\n",
              "      <td>5.865890</td>\n",
              "      <td>8.512727</td>\n",
              "      <td>5.13</td>\n",
              "      <td>36882.15940</td>\n",
              "      <td>1.058988e+06</td>\n",
              "    </tr>\n",
              "    <tr>\n",
              "      <th>3</th>\n",
              "      <td>63345.24005</td>\n",
              "      <td>7.188236</td>\n",
              "      <td>5.586729</td>\n",
              "      <td>3.26</td>\n",
              "      <td>34310.24283</td>\n",
              "      <td>1.260617e+06</td>\n",
              "    </tr>\n",
              "    <tr>\n",
              "      <th>4</th>\n",
              "      <td>59982.19723</td>\n",
              "      <td>5.040555</td>\n",
              "      <td>7.839388</td>\n",
              "      <td>4.23</td>\n",
              "      <td>26354.10947</td>\n",
              "      <td>6.309435e+05</td>\n",
              "    </tr>\n",
              "  </tbody>\n",
              "</table>\n",
              "</div>"
            ],
            "text/plain": [
              "   Avg. Area Income  Avg. Area House Age  Avg. Area Number of Rooms  \\\n",
              "0       79545.45857             5.682861                   7.009188   \n",
              "1       79248.64245             6.002900                   6.730821   \n",
              "2       61287.06718             5.865890                   8.512727   \n",
              "3       63345.24005             7.188236                   5.586729   \n",
              "4       59982.19723             5.040555                   7.839388   \n",
              "\n",
              "   Avg. Area Number of Bedrooms  Area Population         Price  \n",
              "0                          4.09      23086.80050  1.059034e+06  \n",
              "1                          3.09      40173.07217  1.505891e+06  \n",
              "2                          5.13      36882.15940  1.058988e+06  \n",
              "3                          3.26      34310.24283  1.260617e+06  \n",
              "4                          4.23      26354.10947  6.309435e+05  "
            ]
          },
          "execution_count": 9,
          "metadata": {},
          "output_type": "execute_result"
        }
      ],
      "source": [
        "df_data.head()"
      ]
    },
    {
      "cell_type": "markdown",
      "metadata": {
        "id": "IntWCTUbD8D-"
      },
      "source": [
        "\n",
        "# Step 4: Define the inputs and outputs"
      ]
    },
    {
      "cell_type": "markdown",
      "metadata": {
        "id": "IbrSZ4m5D8D_"
      },
      "source": [
        "We now need to define the features(inputs) and labels(outputs). We can do this easily with pandas by slicing the data table and choosing certain rows/columns.\n",
        "\n",
        "**input/features** are those characteristics of the data that determines the class that they belong e.g color, lenght, weight etc\n",
        "\n",
        "**output** is the class that they belong e.g positive/negative, 0/1, hot/cold, present/absent etc\n",
        "\n",
        "You can achieve this by naming all the column names within a double square parenthesis.\n",
        "\n",
        "Another way to do this using **iloc()**\n"
      ]
    },
    {
      "cell_type": "code",
      "execution_count": null,
      "metadata": {
        "id": "1P0OlCB_D8D_"
      },
      "outputs": [],
      "source": [
        "# Let's tell the dataframe which column we want for the imputs/features.\n",
        "inputs = df_data.drop('Price', axis=1)\n",
        "\n",
        "# Let's tell the dataframe which column we want for the target/labels/output.\n",
        "output = df_data['Price']"
      ]
    },
    {
      "cell_type": "markdown",
      "metadata": {
        "id": "tk9XY4Q4D8EA"
      },
      "source": [
        "# Step 5: Split the data to training and testing sets.\n",
        "Remember the default percentage is 80% for training and 20% for testing but you can change the percentages using test_size"
      ]
    },
    {
      "cell_type": "markdown",
      "metadata": {
        "id": "zWpKuc_mD8EA"
      },
      "source": [
        "Assign the split data into diffent arrays"
      ]
    },
    {
      "cell_type": "code",
      "execution_count": null,
      "metadata": {
        "id": "lDfp0owpD8EA"
      },
      "outputs": [],
      "source": [
        "X_train, X_test, y_train, y_test = train_test_split(inputs, output,test_size=0.2)"
      ]
    },
    {
      "cell_type": "code",
      "execution_count": null,
      "metadata": {
        "id": "C0fzoX47D8EB",
        "outputId": "083cac62-3fce-465f-fcb7-b24e8e82c8b8"
      },
      "outputs": [
        {
          "data": {
            "text/plain": [
              "\u001b[0;31mInit signature:\u001b[0m\n",
              "\u001b[0mMLPRegressor\u001b[0m\u001b[0;34m(\u001b[0m\u001b[0;34m\u001b[0m\n",
              "\u001b[0;34m\u001b[0m    \u001b[0mhidden_layer_sizes\u001b[0m\u001b[0;34m=\u001b[0m\u001b[0;34m(\u001b[0m\u001b[0;36m100\u001b[0m\u001b[0;34m,\u001b[0m\u001b[0;34m)\u001b[0m\u001b[0;34m,\u001b[0m\u001b[0;34m\u001b[0m\n",
              "\u001b[0;34m\u001b[0m    \u001b[0mactivation\u001b[0m\u001b[0;34m=\u001b[0m\u001b[0;34m'relu'\u001b[0m\u001b[0;34m,\u001b[0m\u001b[0;34m\u001b[0m\n",
              "\u001b[0;34m\u001b[0m    \u001b[0;34m*\u001b[0m\u001b[0;34m,\u001b[0m\u001b[0;34m\u001b[0m\n",
              "\u001b[0;34m\u001b[0m    \u001b[0msolver\u001b[0m\u001b[0;34m=\u001b[0m\u001b[0;34m'adam'\u001b[0m\u001b[0;34m,\u001b[0m\u001b[0;34m\u001b[0m\n",
              "\u001b[0;34m\u001b[0m    \u001b[0malpha\u001b[0m\u001b[0;34m=\u001b[0m\u001b[0;36m0.0001\u001b[0m\u001b[0;34m,\u001b[0m\u001b[0;34m\u001b[0m\n",
              "\u001b[0;34m\u001b[0m    \u001b[0mbatch_size\u001b[0m\u001b[0;34m=\u001b[0m\u001b[0;34m'auto'\u001b[0m\u001b[0;34m,\u001b[0m\u001b[0;34m\u001b[0m\n",
              "\u001b[0;34m\u001b[0m    \u001b[0mlearning_rate\u001b[0m\u001b[0;34m=\u001b[0m\u001b[0;34m'constant'\u001b[0m\u001b[0;34m,\u001b[0m\u001b[0;34m\u001b[0m\n",
              "\u001b[0;34m\u001b[0m    \u001b[0mlearning_rate_init\u001b[0m\u001b[0;34m=\u001b[0m\u001b[0;36m0.001\u001b[0m\u001b[0;34m,\u001b[0m\u001b[0;34m\u001b[0m\n",
              "\u001b[0;34m\u001b[0m    \u001b[0mpower_t\u001b[0m\u001b[0;34m=\u001b[0m\u001b[0;36m0.5\u001b[0m\u001b[0;34m,\u001b[0m\u001b[0;34m\u001b[0m\n",
              "\u001b[0;34m\u001b[0m    \u001b[0mmax_iter\u001b[0m\u001b[0;34m=\u001b[0m\u001b[0;36m200\u001b[0m\u001b[0;34m,\u001b[0m\u001b[0;34m\u001b[0m\n",
              "\u001b[0;34m\u001b[0m    \u001b[0mshuffle\u001b[0m\u001b[0;34m=\u001b[0m\u001b[0;32mTrue\u001b[0m\u001b[0;34m,\u001b[0m\u001b[0;34m\u001b[0m\n",
              "\u001b[0;34m\u001b[0m    \u001b[0mrandom_state\u001b[0m\u001b[0;34m=\u001b[0m\u001b[0;32mNone\u001b[0m\u001b[0;34m,\u001b[0m\u001b[0;34m\u001b[0m\n",
              "\u001b[0;34m\u001b[0m    \u001b[0mtol\u001b[0m\u001b[0;34m=\u001b[0m\u001b[0;36m0.0001\u001b[0m\u001b[0;34m,\u001b[0m\u001b[0;34m\u001b[0m\n",
              "\u001b[0;34m\u001b[0m    \u001b[0mverbose\u001b[0m\u001b[0;34m=\u001b[0m\u001b[0;32mFalse\u001b[0m\u001b[0;34m,\u001b[0m\u001b[0;34m\u001b[0m\n",
              "\u001b[0;34m\u001b[0m    \u001b[0mwarm_start\u001b[0m\u001b[0;34m=\u001b[0m\u001b[0;32mFalse\u001b[0m\u001b[0;34m,\u001b[0m\u001b[0;34m\u001b[0m\n",
              "\u001b[0;34m\u001b[0m    \u001b[0mmomentum\u001b[0m\u001b[0;34m=\u001b[0m\u001b[0;36m0.9\u001b[0m\u001b[0;34m,\u001b[0m\u001b[0;34m\u001b[0m\n",
              "\u001b[0;34m\u001b[0m    \u001b[0mnesterovs_momentum\u001b[0m\u001b[0;34m=\u001b[0m\u001b[0;32mTrue\u001b[0m\u001b[0;34m,\u001b[0m\u001b[0;34m\u001b[0m\n",
              "\u001b[0;34m\u001b[0m    \u001b[0mearly_stopping\u001b[0m\u001b[0;34m=\u001b[0m\u001b[0;32mFalse\u001b[0m\u001b[0;34m,\u001b[0m\u001b[0;34m\u001b[0m\n",
              "\u001b[0;34m\u001b[0m    \u001b[0mvalidation_fraction\u001b[0m\u001b[0;34m=\u001b[0m\u001b[0;36m0.1\u001b[0m\u001b[0;34m,\u001b[0m\u001b[0;34m\u001b[0m\n",
              "\u001b[0;34m\u001b[0m    \u001b[0mbeta_1\u001b[0m\u001b[0;34m=\u001b[0m\u001b[0;36m0.9\u001b[0m\u001b[0;34m,\u001b[0m\u001b[0;34m\u001b[0m\n",
              "\u001b[0;34m\u001b[0m    \u001b[0mbeta_2\u001b[0m\u001b[0;34m=\u001b[0m\u001b[0;36m0.999\u001b[0m\u001b[0;34m,\u001b[0m\u001b[0;34m\u001b[0m\n",
              "\u001b[0;34m\u001b[0m    \u001b[0mepsilon\u001b[0m\u001b[0;34m=\u001b[0m\u001b[0;36m1e-08\u001b[0m\u001b[0;34m,\u001b[0m\u001b[0;34m\u001b[0m\n",
              "\u001b[0;34m\u001b[0m    \u001b[0mn_iter_no_change\u001b[0m\u001b[0;34m=\u001b[0m\u001b[0;36m10\u001b[0m\u001b[0;34m,\u001b[0m\u001b[0;34m\u001b[0m\n",
              "\u001b[0;34m\u001b[0m    \u001b[0mmax_fun\u001b[0m\u001b[0;34m=\u001b[0m\u001b[0;36m15000\u001b[0m\u001b[0;34m,\u001b[0m\u001b[0;34m\u001b[0m\n",
              "\u001b[0;34m\u001b[0m\u001b[0;34m)\u001b[0m\u001b[0;34m\u001b[0m\u001b[0;34m\u001b[0m\u001b[0m\n",
              "\u001b[0;31mDocstring:\u001b[0m     \n",
              "Multi-layer Perceptron regressor.\n",
              "\n",
              "This model optimizes the squared error using LBFGS or stochastic gradient\n",
              "descent.\n",
              "\n",
              ".. versionadded:: 0.18\n",
              "\n",
              "Parameters\n",
              "----------\n",
              "hidden_layer_sizes : array-like of shape(n_layers - 2,), default=(100,)\n",
              "    The ith element represents the number of neurons in the ith\n",
              "    hidden layer.\n",
              "\n",
              "activation : {'identity', 'logistic', 'tanh', 'relu'}, default='relu'\n",
              "    Activation function for the hidden layer.\n",
              "\n",
              "    - 'identity', no-op activation, useful to implement linear bottleneck,\n",
              "      returns f(x) = x\n",
              "\n",
              "    - 'logistic', the logistic sigmoid function,\n",
              "      returns f(x) = 1 / (1 + exp(-x)).\n",
              "\n",
              "    - 'tanh', the hyperbolic tan function,\n",
              "      returns f(x) = tanh(x).\n",
              "\n",
              "    - 'relu', the rectified linear unit function,\n",
              "      returns f(x) = max(0, x)\n",
              "\n",
              "solver : {'lbfgs', 'sgd', 'adam'}, default='adam'\n",
              "    The solver for weight optimization.\n",
              "\n",
              "    - 'lbfgs' is an optimizer in the family of quasi-Newton methods.\n",
              "\n",
              "    - 'sgd' refers to stochastic gradient descent.\n",
              "\n",
              "    - 'adam' refers to a stochastic gradient-based optimizer proposed by\n",
              "      Kingma, Diederik, and Jimmy Ba\n",
              "\n",
              "    Note: The default solver 'adam' works pretty well on relatively\n",
              "    large datasets (with thousands of training samples or more) in terms of\n",
              "    both training time and validation score.\n",
              "    For small datasets, however, 'lbfgs' can converge faster and perform\n",
              "    better.\n",
              "\n",
              "alpha : float, default=0.0001\n",
              "    Strength of the L2 regularization term. The L2 regularization term\n",
              "    is divided by the sample size when added to the loss.\n",
              "\n",
              "batch_size : int, default='auto'\n",
              "    Size of minibatches for stochastic optimizers.\n",
              "    If the solver is 'lbfgs', the regressor will not use minibatch.\n",
              "    When set to \"auto\", `batch_size=min(200, n_samples)`.\n",
              "\n",
              "learning_rate : {'constant', 'invscaling', 'adaptive'}, default='constant'\n",
              "    Learning rate schedule for weight updates.\n",
              "\n",
              "    - 'constant' is a constant learning rate given by\n",
              "      'learning_rate_init'.\n",
              "\n",
              "    - 'invscaling' gradually decreases the learning rate ``learning_rate_``\n",
              "      at each time step 't' using an inverse scaling exponent of 'power_t'.\n",
              "      effective_learning_rate = learning_rate_init / pow(t, power_t)\n",
              "\n",
              "    - 'adaptive' keeps the learning rate constant to\n",
              "      'learning_rate_init' as long as training loss keeps decreasing.\n",
              "      Each time two consecutive epochs fail to decrease training loss by at\n",
              "      least tol, or fail to increase validation score by at least tol if\n",
              "      'early_stopping' is on, the current learning rate is divided by 5.\n",
              "\n",
              "    Only used when solver='sgd'.\n",
              "\n",
              "learning_rate_init : float, default=0.001\n",
              "    The initial learning rate used. It controls the step-size\n",
              "    in updating the weights. Only used when solver='sgd' or 'adam'.\n",
              "\n",
              "power_t : float, default=0.5\n",
              "    The exponent for inverse scaling learning rate.\n",
              "    It is used in updating effective learning rate when the learning_rate\n",
              "    is set to 'invscaling'. Only used when solver='sgd'.\n",
              "\n",
              "max_iter : int, default=200\n",
              "    Maximum number of iterations. The solver iterates until convergence\n",
              "    (determined by 'tol') or this number of iterations. For stochastic\n",
              "    solvers ('sgd', 'adam'), note that this determines the number of epochs\n",
              "    (how many times each data point will be used), not the number of\n",
              "    gradient steps.\n",
              "\n",
              "shuffle : bool, default=True\n",
              "    Whether to shuffle samples in each iteration. Only used when\n",
              "    solver='sgd' or 'adam'.\n",
              "\n",
              "random_state : int, RandomState instance, default=None\n",
              "    Determines random number generation for weights and bias\n",
              "    initialization, train-test split if early stopping is used, and batch\n",
              "    sampling when solver='sgd' or 'adam'.\n",
              "    Pass an int for reproducible results across multiple function calls.\n",
              "    See :term:`Glossary <random_state>`.\n",
              "\n",
              "tol : float, default=1e-4\n",
              "    Tolerance for the optimization. When the loss or score is not improving\n",
              "    by at least ``tol`` for ``n_iter_no_change`` consecutive iterations,\n",
              "    unless ``learning_rate`` is set to 'adaptive', convergence is\n",
              "    considered to be reached and training stops.\n",
              "\n",
              "verbose : bool, default=False\n",
              "    Whether to print progress messages to stdout.\n",
              "\n",
              "warm_start : bool, default=False\n",
              "    When set to True, reuse the solution of the previous\n",
              "    call to fit as initialization, otherwise, just erase the\n",
              "    previous solution. See :term:`the Glossary <warm_start>`.\n",
              "\n",
              "momentum : float, default=0.9\n",
              "    Momentum for gradient descent update. Should be between 0 and 1. Only\n",
              "    used when solver='sgd'.\n",
              "\n",
              "nesterovs_momentum : bool, default=True\n",
              "    Whether to use Nesterov's momentum. Only used when solver='sgd' and\n",
              "    momentum > 0.\n",
              "\n",
              "early_stopping : bool, default=False\n",
              "    Whether to use early stopping to terminate training when validation\n",
              "    score is not improving. If set to True, it will automatically set\n",
              "    aside ``validation_fraction`` of training data as validation and\n",
              "    terminate training when validation score is not improving by at\n",
              "    least ``tol`` for ``n_iter_no_change`` consecutive epochs.\n",
              "    Only effective when solver='sgd' or 'adam'.\n",
              "\n",
              "validation_fraction : float, default=0.1\n",
              "    The proportion of training data to set aside as validation set for\n",
              "    early stopping. Must be between 0 and 1.\n",
              "    Only used if early_stopping is True.\n",
              "\n",
              "beta_1 : float, default=0.9\n",
              "    Exponential decay rate for estimates of first moment vector in adam,\n",
              "    should be in [0, 1). Only used when solver='adam'.\n",
              "\n",
              "beta_2 : float, default=0.999\n",
              "    Exponential decay rate for estimates of second moment vector in adam,\n",
              "    should be in [0, 1). Only used when solver='adam'.\n",
              "\n",
              "epsilon : float, default=1e-8\n",
              "    Value for numerical stability in adam. Only used when solver='adam'.\n",
              "\n",
              "n_iter_no_change : int, default=10\n",
              "    Maximum number of epochs to not meet ``tol`` improvement.\n",
              "    Only effective when solver='sgd' or 'adam'.\n",
              "\n",
              "    .. versionadded:: 0.20\n",
              "\n",
              "max_fun : int, default=15000\n",
              "    Only used when solver='lbfgs'. Maximum number of function calls.\n",
              "    The solver iterates until convergence (determined by ``tol``), number\n",
              "    of iterations reaches max_iter, or this number of function calls.\n",
              "    Note that number of function calls will be greater than or equal to\n",
              "    the number of iterations for the MLPRegressor.\n",
              "\n",
              "    .. versionadded:: 0.22\n",
              "\n",
              "Attributes\n",
              "----------\n",
              "loss_ : float\n",
              "    The current loss computed with the loss function.\n",
              "\n",
              "best_loss_ : float\n",
              "    The minimum loss reached by the solver throughout fitting.\n",
              "    If `early_stopping=True`, this attribute is set to `None`. Refer to\n",
              "    the `best_validation_score_` fitted attribute instead.\n",
              "    Only accessible when solver='sgd' or 'adam'.\n",
              "\n",
              "loss_curve_ : list of shape (`n_iter_`,)\n",
              "    Loss value evaluated at the end of each training step.\n",
              "    The ith element in the list represents the loss at the ith iteration.\n",
              "    Only accessible when solver='sgd' or 'adam'.\n",
              "\n",
              "validation_scores_ : list of shape (`n_iter_`,) or None\n",
              "    The score at each iteration on a held-out validation set. The score\n",
              "    reported is the R2 score. Only available if `early_stopping=True`,\n",
              "    otherwise the attribute is set to `None`.\n",
              "    Only accessible when solver='sgd' or 'adam'.\n",
              "\n",
              "best_validation_score_ : float or None\n",
              "    The best validation score (i.e. R2 score) that triggered the\n",
              "    early stopping. Only available if `early_stopping=True`, otherwise the\n",
              "    attribute is set to `None`.\n",
              "    Only accessible when solver='sgd' or 'adam'.\n",
              "\n",
              "t_ : int\n",
              "    The number of training samples seen by the solver during fitting.\n",
              "    Mathematically equals `n_iters * X.shape[0]`, it means\n",
              "    `time_step` and it is used by optimizer's learning rate scheduler.\n",
              "\n",
              "coefs_ : list of shape (n_layers - 1,)\n",
              "    The ith element in the list represents the weight matrix corresponding\n",
              "    to layer i.\n",
              "\n",
              "intercepts_ : list of shape (n_layers - 1,)\n",
              "    The ith element in the list represents the bias vector corresponding to\n",
              "    layer i + 1.\n",
              "\n",
              "n_features_in_ : int\n",
              "    Number of features seen during :term:`fit`.\n",
              "\n",
              "    .. versionadded:: 0.24\n",
              "\n",
              "feature_names_in_ : ndarray of shape (`n_features_in_`,)\n",
              "    Names of features seen during :term:`fit`. Defined only when `X`\n",
              "    has feature names that are all strings.\n",
              "\n",
              "    .. versionadded:: 1.0\n",
              "\n",
              "n_iter_ : int\n",
              "    The number of iterations the solver has run.\n",
              "\n",
              "n_layers_ : int\n",
              "    Number of layers.\n",
              "\n",
              "n_outputs_ : int\n",
              "    Number of outputs.\n",
              "\n",
              "out_activation_ : str\n",
              "    Name of the output activation function.\n",
              "\n",
              "See Also\n",
              "--------\n",
              "BernoulliRBM : Bernoulli Restricted Boltzmann Machine (RBM).\n",
              "MLPClassifier : Multi-layer Perceptron classifier.\n",
              "sklearn.linear_model.SGDRegressor : Linear model fitted by minimizing\n",
              "    a regularized empirical loss with SGD.\n",
              "\n",
              "Notes\n",
              "-----\n",
              "MLPRegressor trains iteratively since at each time step\n",
              "the partial derivatives of the loss function with respect to the model\n",
              "parameters are computed to update the parameters.\n",
              "\n",
              "It can also have a regularization term added to the loss function\n",
              "that shrinks model parameters to prevent overfitting.\n",
              "\n",
              "This implementation works with data represented as dense and sparse numpy\n",
              "arrays of floating point values.\n",
              "\n",
              "References\n",
              "----------\n",
              "Hinton, Geoffrey E. \"Connectionist learning procedures.\"\n",
              "Artificial intelligence 40.1 (1989): 185-234.\n",
              "\n",
              "Glorot, Xavier, and Yoshua Bengio.\n",
              "\"Understanding the difficulty of training deep feedforward neural networks.\"\n",
              "International Conference on Artificial Intelligence and Statistics. 2010.\n",
              "\n",
              ":arxiv:`He, Kaiming, et al (2015). \"Delving deep into rectifiers:\n",
              "Surpassing human-level performance on imagenet classification.\" <1502.01852>`\n",
              "\n",
              ":arxiv:`Kingma, Diederik, and Jimmy Ba (2014)\n",
              "\"Adam: A method for stochastic optimization.\" <1412.6980>`\n",
              "\n",
              "Examples\n",
              "--------\n",
              ">>> from sklearn.neural_network import MLPRegressor\n",
              ">>> from sklearn.datasets import make_regression\n",
              ">>> from sklearn.model_selection import train_test_split\n",
              ">>> X, y = make_regression(n_samples=200, random_state=1)\n",
              ">>> X_train, X_test, y_train, y_test = train_test_split(X, y,\n",
              "...                                                     random_state=1)\n",
              ">>> regr = MLPRegressor(random_state=1, max_iter=500).fit(X_train, y_train)\n",
              ">>> regr.predict(X_test[:2])\n",
              "array([-0.9..., -7.1...])\n",
              ">>> regr.score(X_test, y_test)\n",
              "0.4...\n",
              "\u001b[0;31mFile:\u001b[0m           /opt/anaconda3/lib/python3.11/site-packages/sklearn/neural_network/_multilayer_perceptron.py\n",
              "\u001b[0;31mType:\u001b[0m           ABCMeta\n",
              "\u001b[0;31mSubclasses:\u001b[0m     "
            ]
          },
          "metadata": {},
          "output_type": "display_data"
        }
      ],
      "source": [
        "# MLPRegressor?"
      ]
    },
    {
      "cell_type": "code",
      "execution_count": null,
      "metadata": {
        "id": "5TC6r90VD8EC"
      },
      "outputs": [],
      "source": [
        "# MLP = MLPRegressor(activation='logistic', solver ='sgd',learning_rate='adaptive' ,max_iter=5000)"
      ]
    },
    {
      "cell_type": "code",
      "execution_count": null,
      "metadata": {
        "id": "e2jGcppxD8EC"
      },
      "outputs": [],
      "source": [
        "MLP = MLPRegressor(activation='relu',solver ='adam', max_iter=100)"
      ]
    },
    {
      "cell_type": "markdown",
      "metadata": {
        "id": "PI1iXg3DD8ED"
      },
      "source": [
        "# Now apply the transformations to the data:\n"
      ]
    },
    {
      "cell_type": "code",
      "execution_count": null,
      "metadata": {
        "id": "ZM0NdvUgD8ED",
        "outputId": "535a0739-ee5c-4341-ee66-2a09b3c44c48"
      },
      "outputs": [
        {
          "name": "stderr",
          "output_type": "stream",
          "text": [
            "/opt/anaconda3/lib/python3.11/site-packages/sklearn/neural_network/_multilayer_perceptron.py:686: ConvergenceWarning: Stochastic Optimizer: Maximum iterations (100) reached and the optimization hasn't converged yet.\n",
            "  warnings.warn(\n"
          ]
        },
        {
          "data": {
            "text/html": [
              "<style>#sk-container-id-7 {color: black;background-color: white;}#sk-container-id-7 pre{padding: 0;}#sk-container-id-7 div.sk-toggleable {background-color: white;}#sk-container-id-7 label.sk-toggleable__label {cursor: pointer;display: block;width: 100%;margin-bottom: 0;padding: 0.3em;box-sizing: border-box;text-align: center;}#sk-container-id-7 label.sk-toggleable__label-arrow:before {content: \"▸\";float: left;margin-right: 0.25em;color: #696969;}#sk-container-id-7 label.sk-toggleable__label-arrow:hover:before {color: black;}#sk-container-id-7 div.sk-estimator:hover label.sk-toggleable__label-arrow:before {color: black;}#sk-container-id-7 div.sk-toggleable__content {max-height: 0;max-width: 0;overflow: hidden;text-align: left;background-color: #f0f8ff;}#sk-container-id-7 div.sk-toggleable__content pre {margin: 0.2em;color: black;border-radius: 0.25em;background-color: #f0f8ff;}#sk-container-id-7 input.sk-toggleable__control:checked~div.sk-toggleable__content {max-height: 200px;max-width: 100%;overflow: auto;}#sk-container-id-7 input.sk-toggleable__control:checked~label.sk-toggleable__label-arrow:before {content: \"▾\";}#sk-container-id-7 div.sk-estimator input.sk-toggleable__control:checked~label.sk-toggleable__label {background-color: #d4ebff;}#sk-container-id-7 div.sk-label input.sk-toggleable__control:checked~label.sk-toggleable__label {background-color: #d4ebff;}#sk-container-id-7 input.sk-hidden--visually {border: 0;clip: rect(1px 1px 1px 1px);clip: rect(1px, 1px, 1px, 1px);height: 1px;margin: -1px;overflow: hidden;padding: 0;position: absolute;width: 1px;}#sk-container-id-7 div.sk-estimator {font-family: monospace;background-color: #f0f8ff;border: 1px dotted black;border-radius: 0.25em;box-sizing: border-box;margin-bottom: 0.5em;}#sk-container-id-7 div.sk-estimator:hover {background-color: #d4ebff;}#sk-container-id-7 div.sk-parallel-item::after {content: \"\";width: 100%;border-bottom: 1px solid gray;flex-grow: 1;}#sk-container-id-7 div.sk-label:hover label.sk-toggleable__label {background-color: #d4ebff;}#sk-container-id-7 div.sk-serial::before {content: \"\";position: absolute;border-left: 1px solid gray;box-sizing: border-box;top: 0;bottom: 0;left: 50%;z-index: 0;}#sk-container-id-7 div.sk-serial {display: flex;flex-direction: column;align-items: center;background-color: white;padding-right: 0.2em;padding-left: 0.2em;position: relative;}#sk-container-id-7 div.sk-item {position: relative;z-index: 1;}#sk-container-id-7 div.sk-parallel {display: flex;align-items: stretch;justify-content: center;background-color: white;position: relative;}#sk-container-id-7 div.sk-item::before, #sk-container-id-7 div.sk-parallel-item::before {content: \"\";position: absolute;border-left: 1px solid gray;box-sizing: border-box;top: 0;bottom: 0;left: 50%;z-index: -1;}#sk-container-id-7 div.sk-parallel-item {display: flex;flex-direction: column;z-index: 1;position: relative;background-color: white;}#sk-container-id-7 div.sk-parallel-item:first-child::after {align-self: flex-end;width: 50%;}#sk-container-id-7 div.sk-parallel-item:last-child::after {align-self: flex-start;width: 50%;}#sk-container-id-7 div.sk-parallel-item:only-child::after {width: 0;}#sk-container-id-7 div.sk-dashed-wrapped {border: 1px dashed gray;margin: 0 0.4em 0.5em 0.4em;box-sizing: border-box;padding-bottom: 0.4em;background-color: white;}#sk-container-id-7 div.sk-label label {font-family: monospace;font-weight: bold;display: inline-block;line-height: 1.2em;}#sk-container-id-7 div.sk-label-container {text-align: center;}#sk-container-id-7 div.sk-container {/* jupyter's `normalize.less` sets `[hidden] { display: none; }` but bootstrap.min.css set `[hidden] { display: none !important; }` so we also need the `!important` here to be able to override the default hidden behavior on the sphinx rendered scikit-learn.org. See: https://github.com/scikit-learn/scikit-learn/issues/21755 */display: inline-block !important;position: relative;}#sk-container-id-7 div.sk-text-repr-fallback {display: none;}</style><div id=\"sk-container-id-7\" class=\"sk-top-container\"><div class=\"sk-text-repr-fallback\"><pre>MLPRegressor(max_iter=100)</pre><b>In a Jupyter environment, please rerun this cell to show the HTML representation or trust the notebook. <br />On GitHub, the HTML representation is unable to render, please try loading this page with nbviewer.org.</b></div><div class=\"sk-container\" hidden><div class=\"sk-item\"><div class=\"sk-estimator sk-toggleable\"><input class=\"sk-toggleable__control sk-hidden--visually\" id=\"sk-estimator-id-7\" type=\"checkbox\" checked><label for=\"sk-estimator-id-7\" class=\"sk-toggleable__label sk-toggleable__label-arrow\">MLPRegressor</label><div class=\"sk-toggleable__content\"><pre>MLPRegressor(max_iter=100)</pre></div></div></div></div></div>"
            ],
            "text/plain": [
              "MLPRegressor(max_iter=100)"
            ]
          },
          "execution_count": 39,
          "metadata": {},
          "output_type": "execute_result"
        }
      ],
      "source": [
        "MLP.fit(X_train, y_train)"
      ]
    },
    {
      "cell_type": "code",
      "execution_count": null,
      "metadata": {
        "id": "7I1r8i2gD8EF"
      },
      "outputs": [],
      "source": [
        "prediction=MLP.predict(X_test)\n"
      ]
    },
    {
      "cell_type": "markdown",
      "metadata": {
        "id": "h6LimN9mD8EF"
      },
      "source": [
        "# Measure the perfomance"
      ]
    },
    {
      "cell_type": "code",
      "execution_count": null,
      "metadata": {
        "id": "YYU1sZnUD8EG",
        "outputId": "41895f7a-23c3-4b88-c094-2b8472d14679"
      },
      "outputs": [
        {
          "name": "stdout",
          "output_type": "stream",
          "text": [
            "Mean Squared Error: 58000215560.81\n",
            "Root Mean Squared Error: 240832.34\n",
            "R^2 Score: 0.49\n"
          ]
        }
      ],
      "source": [
        "mse = mean_squared_error(y_test, prediction)\n",
        "print(f\"Mean Squared Error: {mse:.2f}\")\n",
        "# Calculate RMSE\n",
        "rmse = np.sqrt(mse)\n",
        "print(f\"Root Mean Squared Error: {rmse:.2f}\")\n",
        "\n",
        "# Calculate R-squared\n",
        "r2 = r2_score(y_test, prediction)\n",
        "print(f\"R^2 Score: {r2:.2f}\")"
      ]
    },
    {
      "cell_type": "code",
      "execution_count": null,
      "metadata": {
        "id": "NpYQ9QQxD8EH"
      },
      "outputs": [],
      "source": []
    },
    {
      "cell_type": "code",
      "execution_count": null,
      "metadata": {
        "id": "L3D8m5X8D8EI"
      },
      "outputs": [],
      "source": []
    },
    {
      "cell_type": "code",
      "execution_count": null,
      "metadata": {
        "id": "ecQ118IID8EJ"
      },
      "outputs": [],
      "source": []
    }
  ],
  "metadata": {
    "kernelspec": {
      "display_name": "Python 3 (ipykernel)",
      "language": "python",
      "name": "python3"
    },
    "language_info": {
      "codemirror_mode": {
        "name": "ipython",
        "version": 3
      },
      "file_extension": ".py",
      "mimetype": "text/x-python",
      "name": "python",
      "nbconvert_exporter": "python",
      "pygments_lexer": "ipython3",
      "version": "3.11.7"
    },
    "colab": {
      "provenance": [],
      "include_colab_link": true
    }
  },
  "nbformat": 4,
  "nbformat_minor": 0
}