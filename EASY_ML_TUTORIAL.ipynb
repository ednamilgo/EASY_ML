{
  "cells": [
    {
      "cell_type": "markdown",
      "source": [
        "# Linear Regression Tutorial\n",
        "Date : July 9, 2025\n",
        "Status : In Development"
      ],
      "metadata": {
        "id": "6Ii3RYLsdJSE"
      },
      "id": "6Ii3RYLsdJSE"
    },
    {
      "cell_type": "code",
      "execution_count": 1,
      "id": "import-torch",
      "metadata": {
        "id": "import-torch",
        "outputId": "1ecad5b0-78d9-4774-d658-3845b2bba2c6",
        "colab": {
          "base_uri": "https://localhost:8080/"
        }
      },
      "outputs": [
        {
          "output_type": "stream",
          "name": "stdout",
          "text": [
            "Mounted at /content/drive\n"
          ]
        }
      ],
      "source": [
        "from google.colab import drive\n",
        "drive.mount('/content/drive')"
      ]
    },
    {
      "cell_type": "code",
      "execution_count": 2,
      "id": "corr-function",
      "metadata": {
        "id": "corr-function",
        "outputId": "1cb82b2a-5d82-4f6c-ef81-b6dc6eb726e5",
        "colab": {
          "base_uri": "https://localhost:8080/",
          "height": 36
        }
      },
      "outputs": [
        {
          "output_type": "execute_result",
          "data": {
            "text/plain": [
              "'/content'"
            ],
            "application/vnd.google.colaboratory.intrinsic+json": {
              "type": "string"
            }
          },
          "metadata": {},
          "execution_count": 2
        }
      ],
      "source": [
        "pwd"
      ]
    },
    {
      "cell_type": "code",
      "source": [
        "! ls -la"
      ],
      "metadata": {
        "id": "1s_NvuiLeJ7z",
        "outputId": "15b608af-7971-455a-9c4c-48d406aad34b",
        "colab": {
          "base_uri": "https://localhost:8080/"
        }
      },
      "id": "1s_NvuiLeJ7z",
      "execution_count": 3,
      "outputs": [
        {
          "output_type": "stream",
          "name": "stdout",
          "text": [
            "total 20\n",
            "drwxr-xr-x 1 root root 4096 Jul  9 13:51 .\n",
            "drwxr-xr-x 1 root root 4096 Jul  9 13:47 ..\n",
            "drwxr-xr-x 4 root root 4096 Jul  7 19:54 .config\n",
            "drwx------ 6 root root 4096 Jul  9 13:51 drive\n",
            "drwxr-xr-x 1 root root 4096 Jul  7 19:55 sample_data\n"
          ]
        }
      ]
    }
  ],
  "metadata": {
    "kernelspec": {
      "display_name": "Python 3 (ipykernel)",
      "language": "python",
      "name": "python3"
    },
    "language_info": {
      "codemirror_mode": {
        "name": "ipython",
        "version": 3
      },
      "file_extension": ".py",
      "mimetype": "text/x-python",
      "name": "python",
      "nbconvert_exporter": "python",
      "pygments_lexer": "ipython3",
      "version": "3.12.3"
    },
    "colab": {
      "provenance": []
    }
  },
  "nbformat": 4,
  "nbformat_minor": 5
}