{
  "nbformat": 4,
  "nbformat_minor": 0,
  "metadata": {
    "colab": {
      "provenance": []
    },
    "kernelspec": {
      "name": "python3",
      "display_name": "Python 3"
    },
    "language_info": {
      "name": "python"
    }
  },
  "cells": [
    {
      "cell_type": "code",
      "execution_count": null,
      "metadata": {
        "id": "ychptfef7vsY"
      },
      "outputs": [],
      "source": []
    },
    {
      "cell_type": "markdown",
      "source": [],
      "metadata": {
        "id": "_vMvipCk-7qC"
      }
    },
    {
      "cell_type": "markdown",
      "source": [
        "# Programming with Python : Introduction"
      ],
      "metadata": {
        "id": "zauZWeep-8ic"
      }
    },
    {
      "cell_type": "code",
      "source": [
        "print(\" Welcome to EASY-ML\")"
      ],
      "metadata": {
        "colab": {
          "base_uri": "https://localhost:8080/"
        },
        "id": "ogvi1apMQTzL",
        "outputId": "29aed1c1-13ac-48b0-94b5-f8a4f03798ca"
      },
      "execution_count": 1,
      "outputs": [
        {
          "output_type": "stream",
          "name": "stdout",
          "text": [
            " Welcome to EASY-ML\n"
          ]
        }
      ]
    },
    {
      "cell_type": "markdown",
      "source": [
        "## Variables"
      ],
      "metadata": {
        "id": "7j4AzVRonKeT"
      }
    },
    {
      "cell_type": "code",
      "source": [
        "name = \"John\"\n",
        "age = 20\n",
        "score = 95"
      ],
      "metadata": {
        "id": "bUjcA3vlQkPE"
      },
      "execution_count": 2,
      "outputs": []
    },
    {
      "cell_type": "code",
      "source": [
        "name"
      ],
      "metadata": {
        "id": "fAGI4_8bFGTh",
        "colab": {
          "base_uri": "https://localhost:8080/",
          "height": 35
        },
        "outputId": "322f9679-f569-467e-a9b3-3ea5430accef"
      },
      "execution_count": 3,
      "outputs": [
        {
          "output_type": "execute_result",
          "data": {
            "text/plain": [
              "'John'"
            ],
            "application/vnd.google.colaboratory.intrinsic+json": {
              "type": "string"
            }
          },
          "metadata": {},
          "execution_count": 3
        }
      ]
    },
    {
      "cell_type": "code",
      "source": [
        "age"
      ],
      "metadata": {
        "colab": {
          "base_uri": "https://localhost:8080/"
        },
        "id": "42lSgtEhnUl1",
        "outputId": "59b1b7e3-1329-4d3a-dfec-3f8c556b4599"
      },
      "execution_count": 4,
      "outputs": [
        {
          "output_type": "execute_result",
          "data": {
            "text/plain": [
              "20"
            ]
          },
          "metadata": {},
          "execution_count": 4
        }
      ]
    },
    {
      "cell_type": "code",
      "source": [
        "score"
      ],
      "metadata": {
        "colab": {
          "base_uri": "https://localhost:8080/"
        },
        "id": "K8lDbw8vnY_7",
        "outputId": "27d1d5ca-de63-4522-d3e4-51f973f845c3"
      },
      "execution_count": 5,
      "outputs": [
        {
          "output_type": "execute_result",
          "data": {
            "text/plain": [
              "95"
            ]
          },
          "metadata": {},
          "execution_count": 5
        }
      ]
    },
    {
      "cell_type": "markdown",
      "source": [
        "# Intergers"
      ],
      "metadata": {
        "id": "tSWB3zHNutcD"
      }
    },
    {
      "cell_type": "code",
      "source": [
        "age = 11\n",
        "score = -5"
      ],
      "metadata": {
        "id": "Q2m60lWfnZm7"
      },
      "execution_count": 6,
      "outputs": []
    },
    {
      "cell_type": "markdown",
      "source": [
        "## Float"
      ],
      "metadata": {
        "id": "iE2A944cvLcW"
      }
    },
    {
      "cell_type": "code",
      "source": [
        "price = 11.33333\n",
        "height = 6.5"
      ],
      "metadata": {
        "id": "djUiQ-MeuQnu"
      },
      "execution_count": 7,
      "outputs": []
    },
    {
      "cell_type": "code",
      "source": [
        "price\n"
      ],
      "metadata": {
        "colab": {
          "base_uri": "https://localhost:8080/"
        },
        "id": "EUW1M-eUvOpq",
        "outputId": "ebf98fa1-a82f-4009-8d97-97bdb01c2cfd"
      },
      "execution_count": 8,
      "outputs": [
        {
          "output_type": "execute_result",
          "data": {
            "text/plain": [
              "11.33333"
            ]
          },
          "metadata": {},
          "execution_count": 8
        }
      ]
    },
    {
      "cell_type": "markdown",
      "source": [
        "## Boolean"
      ],
      "metadata": {
        "id": "Kt2Bx1gVvn7a"
      }
    },
    {
      "cell_type": "code",
      "source": [
        "is_ready = True\n",
        "is_tired = False"
      ],
      "metadata": {
        "id": "w3ZOhmDovS5R"
      },
      "execution_count": 9,
      "outputs": []
    },
    {
      "cell_type": "code",
      "source": [
        "is_ready"
      ],
      "metadata": {
        "colab": {
          "base_uri": "https://localhost:8080/"
        },
        "id": "KHW2KIE1vp__",
        "outputId": "c83b2565-5f7d-4d6b-90a3-22f78c828b14"
      },
      "execution_count": 10,
      "outputs": [
        {
          "output_type": "execute_result",
          "data": {
            "text/plain": [
              "True"
            ]
          },
          "metadata": {},
          "execution_count": 10
        }
      ]
    },
    {
      "cell_type": "markdown",
      "source": [
        "## String"
      ],
      "metadata": {
        "id": "BXBq7Q90vywY"
      }
    },
    {
      "cell_type": "code",
      "source": [
        "name = \"Jane\"\n",
        "greeting = 'Hello'"
      ],
      "metadata": {
        "id": "4j_6pcZkvsvW"
      },
      "execution_count": 11,
      "outputs": []
    },
    {
      "cell_type": "code",
      "source": [
        "greeting + \" \"+ name"
      ],
      "metadata": {
        "colab": {
          "base_uri": "https://localhost:8080/",
          "height": 35
        },
        "id": "VOxDbz2uv0Zf",
        "outputId": "268f0e54-ce3b-4d3f-e698-f61ab2a43eef"
      },
      "execution_count": 13,
      "outputs": [
        {
          "output_type": "execute_result",
          "data": {
            "text/plain": [
              "'Hello Jane'"
            ],
            "application/vnd.google.colaboratory.intrinsic+json": {
              "type": "string"
            }
          },
          "metadata": {},
          "execution_count": 13
        }
      ]
    },
    {
      "cell_type": "markdown",
      "source": [
        "## Comments"
      ],
      "metadata": {
        "id": "X6_AnWXLwNw9"
      }
    },
    {
      "cell_type": "code",
      "source": [
        "weight_1 = 12 # This is the weight of the first item\n",
        "weight_2 = 15 # This is the weight of the second item"
      ],
      "metadata": {
        "id": "LSzer_AVv3es"
      },
      "execution_count": 16,
      "outputs": []
    },
    {
      "cell_type": "code",
      "source": [
        "weight_1"
      ],
      "metadata": {
        "colab": {
          "base_uri": "https://localhost:8080/"
        },
        "id": "p0fMPHO6waFe",
        "outputId": "e8002824-f916-4add-8cb2-4e840b8c6c5e"
      },
      "execution_count": 17,
      "outputs": [
        {
          "output_type": "execute_result",
          "data": {
            "text/plain": [
              "12"
            ]
          },
          "metadata": {},
          "execution_count": 17
        }
      ]
    },
    {
      "cell_type": "markdown",
      "source": [
        "## Assignment"
      ],
      "metadata": {
        "id": "TTxLIV8IxB0E"
      }
    },
    {
      "cell_type": "code",
      "source": [
        "  x = 4\n",
        "  y, z = 7, 11"
      ],
      "metadata": {
        "id": "ONvHQYe3wdP9"
      },
      "execution_count": 18,
      "outputs": []
    },
    {
      "cell_type": "code",
      "source": [
        "x"
      ],
      "metadata": {
        "colab": {
          "base_uri": "https://localhost:8080/"
        },
        "id": "l9NO9n1YxJ4c",
        "outputId": "0b3abc31-9840-4476-a013-ebbaad807248"
      },
      "execution_count": 19,
      "outputs": [
        {
          "output_type": "execute_result",
          "data": {
            "text/plain": [
              "4"
            ]
          },
          "metadata": {},
          "execution_count": 19
        }
      ]
    },
    {
      "cell_type": "code",
      "source": [
        "y"
      ],
      "metadata": {
        "colab": {
          "base_uri": "https://localhost:8080/"
        },
        "id": "C_eclrVwxMKS",
        "outputId": "7835f901-508a-4115-8b40-72203d41699d"
      },
      "execution_count": 20,
      "outputs": [
        {
          "output_type": "execute_result",
          "data": {
            "text/plain": [
              "7"
            ]
          },
          "metadata": {},
          "execution_count": 20
        }
      ]
    },
    {
      "cell_type": "code",
      "source": [
        "z"
      ],
      "metadata": {
        "colab": {
          "base_uri": "https://localhost:8080/"
        },
        "id": "2u-TXEk-xNDB",
        "outputId": "cb45d001-e2ef-4805-f786-c9dba3d203ff"
      },
      "execution_count": 21,
      "outputs": [
        {
          "output_type": "execute_result",
          "data": {
            "text/plain": [
              "11"
            ]
          },
          "metadata": {},
          "execution_count": 21
        }
      ]
    },
    {
      "cell_type": "code",
      "source": [
        "w"
      ],
      "metadata": {
        "colab": {
          "base_uri": "https://localhost:8080/",
          "height": 141
        },
        "id": "QIqZKxO1xNlC",
        "outputId": "4731c958-1380-4330-b243-d0fb982deec2"
      },
      "execution_count": 22,
      "outputs": [
        {
          "output_type": "error",
          "ename": "NameError",
          "evalue": "name 'w' is not defined",
          "traceback": [
            "\u001b[0;31m---------------------------------------------------------------------------\u001b[0m",
            "\u001b[0;31mNameError\u001b[0m                                 Traceback (most recent call last)",
            "\u001b[0;32m/tmp/ipython-input-22-624579656.py\u001b[0m in \u001b[0;36m<cell line: 0>\u001b[0;34m()\u001b[0m\n\u001b[0;32m----> 1\u001b[0;31m \u001b[0mw\u001b[0m\u001b[0;34m\u001b[0m\u001b[0;34m\u001b[0m\u001b[0m\n\u001b[0m",
            "\u001b[0;31mNameError\u001b[0m: name 'w' is not defined"
          ]
        }
      ]
    },
    {
      "cell_type": "code",
      "source": [],
      "metadata": {
        "id": "Yr0fnvPkxj2T"
      },
      "execution_count": null,
      "outputs": []
    }
  ]
}
