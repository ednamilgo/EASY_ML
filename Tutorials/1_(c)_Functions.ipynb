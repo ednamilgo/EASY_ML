{
  "nbformat": 4,
  "nbformat_minor": 0,
  "metadata": {
    "colab": {
      "provenance": [],
      "authorship_tag": "ABX9TyM6vTK3I+XfEsIOgBKSOZ6J",
      "include_colab_link": true
    },
    "kernelspec": {
      "name": "python3",
      "display_name": "Python 3"
    },
    "language_info": {
      "name": "python"
    }
  },
  "cells": [
    {
      "cell_type": "markdown",
      "metadata": {
        "id": "view-in-github",
        "colab_type": "text"
      },
      "source": [
        "<a href=\"https://colab.research.google.com/github/ednamilgo/EASY_ML/blob/main/1_(c)_Functions.ipynb\" target=\"_parent\"><img src=\"https://colab.research.google.com/assets/colab-badge.svg\" alt=\"Open In Colab\"/></a>"
      ]
    },
    {
      "cell_type": "markdown",
      "source": [
        "# FUNCTIONS"
      ],
      "metadata": {
        "id": "oic7539FkRL2"
      }
    },
    {
      "cell_type": "markdown",
      "source": [
        "# print() Function"
      ],
      "metadata": {
        "id": "0q756nZ7kWYN"
      }
    },
    {
      "cell_type": "code",
      "execution_count": null,
      "metadata": {
        "colab": {
          "base_uri": "https://localhost:8080/"
        },
        "id": "intfPV9WkIyc",
        "outputId": "e2dada9c-30d9-426d-ec20-7775ce4c7070"
      },
      "outputs": [
        {
          "output_type": "stream",
          "name": "stdout",
          "text": [
            "This is some text to output to the user\n"
          ]
        }
      ],
      "source": [
        "print(\"This is some text to output to the user\")"
      ]
    },
    {
      "cell_type": "markdown",
      "source": [
        "## Using variables in print()"
      ],
      "metadata": {
        "id": "2-kuuHXRkkS7"
      }
    },
    {
      "cell_type": "code",
      "source": [
        "name=\"Joy\"\n",
        "print(\"Welcome to EASY-ML\" + name)"
      ],
      "metadata": {
        "colab": {
          "base_uri": "https://localhost:8080/"
        },
        "id": "B9a3K6IOkS_Y",
        "outputId": "51ee80ff-2217-46e0-c4aa-2daf4e2d1ff9"
      },
      "execution_count": null,
      "outputs": [
        {
          "output_type": "stream",
          "name": "stdout",
          "text": [
            "Welcome to EASY-MLJoy\n"
          ]
        }
      ]
    },
    {
      "cell_type": "code",
      "source": [
        "weight = 20\n",
        "print(\"The weight is \"+ str(weight))"
      ],
      "metadata": {
        "colab": {
          "base_uri": "https://localhost:8080/"
        },
        "id": "a94EVO3qk1WM",
        "outputId": "0e973dcd-d3fc-438c-a868-086dc46fdd2b"
      },
      "execution_count": null,
      "outputs": [
        {
          "output_type": "stream",
          "name": "stdout",
          "text": [
            "The weight is 20\n"
          ]
        }
      ]
    },
    {
      "cell_type": "markdown",
      "source": [
        "# type() Function"
      ],
      "metadata": {
        "id": "jMSA9WP7lV0g"
      }
    },
    {
      "cell_type": "code",
      "source": [
        "weight=3.56\n",
        "message=\"Hello\"\n",
        "my_list=[\"Mary\", 20, \"Jack\",25]"
      ],
      "metadata": {
        "id": "Mb3BMX32lg8d"
      },
      "execution_count": null,
      "outputs": []
    },
    {
      "cell_type": "code",
      "source": [
        "type(weight)"
      ],
      "metadata": {
        "colab": {
          "base_uri": "https://localhost:8080/"
        },
        "id": "in5alhdSl0CN",
        "outputId": "b05a4869-b27a-4001-d1ba-f795aff5dc30"
      },
      "execution_count": null,
      "outputs": [
        {
          "output_type": "execute_result",
          "data": {
            "text/plain": [
              "float"
            ]
          },
          "metadata": {},
          "execution_count": 6
        }
      ]
    },
    {
      "cell_type": "code",
      "source": [
        "type(message)"
      ],
      "metadata": {
        "colab": {
          "base_uri": "https://localhost:8080/"
        },
        "id": "6PJJKLtXl2ae",
        "outputId": "aaeed86a-67df-425f-d2d4-d96d7c5236c7"
      },
      "execution_count": null,
      "outputs": [
        {
          "output_type": "execute_result",
          "data": {
            "text/plain": [
              "str"
            ]
          },
          "metadata": {},
          "execution_count": 7
        }
      ]
    },
    {
      "cell_type": "code",
      "source": [
        "type(my_list)"
      ],
      "metadata": {
        "colab": {
          "base_uri": "https://localhost:8080/"
        },
        "id": "bBt4WXsZl4uN",
        "outputId": "1d3b559b-dfc6-4343-e492-4695237be87d"
      },
      "execution_count": null,
      "outputs": [
        {
          "output_type": "execute_result",
          "data": {
            "text/plain": [
              "list"
            ]
          },
          "metadata": {},
          "execution_count": 8
        }
      ]
    },
    {
      "cell_type": "markdown",
      "source": [
        "# input Function"
      ],
      "metadata": {
        "id": "LVy-oJbVm2O3"
      }
    },
    {
      "cell_type": "code",
      "source": [
        "name = input(\"Enter your name \")"
      ],
      "metadata": {
        "colab": {
          "base_uri": "https://localhost:8080/"
        },
        "id": "3IgpQsOSl6hK",
        "outputId": "c3c84543-0877-4657-fb11-9711af508599"
      },
      "execution_count": null,
      "outputs": [
        {
          "name": "stdout",
          "output_type": "stream",
          "text": [
            "Enter your name Jane\n"
          ]
        }
      ]
    },
    {
      "cell_type": "code",
      "source": [
        "print(\"You have entered \" + name)"
      ],
      "metadata": {
        "colab": {
          "base_uri": "https://localhost:8080/"
        },
        "id": "NnedHCQ2nBV8",
        "outputId": "bacdd3b2-6a12-41c8-ee29-6e64b700c136"
      },
      "execution_count": null,
      "outputs": [
        {
          "output_type": "stream",
          "name": "stdout",
          "text": [
            "You have entered Jane\n"
          ]
        }
      ]
    },
    {
      "cell_type": "code",
      "source": [
        "age = input(\"Enter your age (in years) \")"
      ],
      "metadata": {
        "colab": {
          "base_uri": "https://localhost:8080/"
        },
        "id": "tQFyEYCXnJ6l",
        "outputId": "3e420eac-492f-45f3-cce1-cf509d3f8c36"
      },
      "execution_count": null,
      "outputs": [
        {
          "name": "stdout",
          "output_type": "stream",
          "text": [
            "Enter your age (in years) 20\n"
          ]
        }
      ]
    },
    {
      "cell_type": "code",
      "source": [
        "print(\"You have entered \" + str(age))"
      ],
      "metadata": {
        "colab": {
          "base_uri": "https://localhost:8080/"
        },
        "id": "oHKACQBin5h1",
        "outputId": "196cd9e5-5844-4c68-eeae-3ae2fa0ef39f"
      },
      "execution_count": null,
      "outputs": [
        {
          "output_type": "stream",
          "name": "stdout",
          "text": [
            "You have entered 20\n"
          ]
        }
      ]
    },
    {
      "cell_type": "markdown",
      "source": [
        "## Multiple Input Prompts"
      ],
      "metadata": {
        "id": "ik5Z0sm4nkr1"
      }
    },
    {
      "cell_type": "code",
      "source": [
        "print(\"Please enter 4 grades\")\n",
        "\n",
        "# Receive 4 grades from the user\n",
        "grade1 = int(input(\"Enter grade 1: \"))\n",
        "grade2 = int(input(\"Enter grade 2: \"))\n",
        "grade3 = int(input(\"Enter grade 3: \"))\n",
        "grade4 = int(input(\"Enter grade 4: \"))\n",
        "\n",
        "# Print the grades\n",
        "print(\"You entered the following grades:\", grade1, grade2, grade3, grade4)\n"
      ],
      "metadata": {
        "colab": {
          "base_uri": "https://localhost:8080/"
        },
        "id": "hnv7lbydoWyH",
        "outputId": "a1fdfb65-2b58-4b27-a0bb-3a5b1c8da3b8"
      },
      "execution_count": null,
      "outputs": [
        {
          "output_type": "stream",
          "name": "stdout",
          "text": [
            "Please enter 4 grades\n",
            "Enter grade 1: 3\n",
            "Enter grade 2: 5\n",
            "Enter grade 3: 6\n",
            "Enter grade 4: 6\n",
            "You entered the following grades: 3 5 6 6\n"
          ]
        }
      ]
    },
    {
      "cell_type": "code",
      "source": [
        "\n"
      ],
      "metadata": {
        "id": "h0lfs7TtoWnp"
      },
      "execution_count": null,
      "outputs": []
    },
    {
      "cell_type": "markdown",
      "source": [
        "# USER DEFINED FUNCTIONS"
      ],
      "metadata": {
        "id": "mJdvOD22pJLB"
      }
    },
    {
      "cell_type": "code",
      "source": [
        "def find_average(a, b):\n",
        "    return (a + b) / 2"
      ],
      "metadata": {
        "id": "kIAOWEQ6oWRn"
      },
      "execution_count": null,
      "outputs": []
    },
    {
      "cell_type": "code",
      "source": [
        "result = find_average(10, 6)\n",
        "print(\"The average is:\", result)"
      ],
      "metadata": {
        "colab": {
          "base_uri": "https://localhost:8080/"
        },
        "id": "6B3ltOpbpWY6",
        "outputId": "3068d1d7-276e-4a30-b16e-a6a86eb29c1c"
      },
      "execution_count": null,
      "outputs": [
        {
          "output_type": "stream",
          "name": "stdout",
          "text": [
            "The average is: 8.0\n"
          ]
        }
      ]
    },
    {
      "cell_type": "markdown",
      "source": [
        "## Function with multipme parameters"
      ],
      "metadata": {
        "id": "CjPr5lsUqSIc"
      }
    },
    {
      "cell_type": "code",
      "source": [
        "# Function with 3 parameters\n",
        "def calculate_total(price, quantity, VAT):\n",
        "    total = (price * quantity) * (1+VAT)\n",
        "    print(\"The total cost is: \" +str(total))\n",
        "\n"
      ],
      "metadata": {
        "id": "kEnLBeJ1pX17"
      },
      "execution_count": 1,
      "outputs": []
    },
    {
      "cell_type": "code",
      "source": [
        "\n",
        "price = float(input(\"Enter the price of one item: \"))\n",
        "quantity = int(input(\"Enter the quantity: \"))\n",
        "VAT = float(input(\"Enter the VAT rate (e.g. 0.16 for 16%): \"))\n",
        "\n",
        "# Call the function with the input values\n",
        "calculate_total(price, quantity, VAT)"
      ],
      "metadata": {
        "id": "vgtoIhdDtrjd",
        "outputId": "9ada1e7e-8e2b-434f-e58b-067b7d9cdc8c",
        "colab": {
          "base_uri": "https://localhost:8080/"
        }
      },
      "execution_count": 2,
      "outputs": [
        {
          "output_type": "stream",
          "name": "stdout",
          "text": [
            "Enter the price of one item: 40\n",
            "Enter the quantity: 2\n",
            "Enter the VAT rate (e.g. 0.16 for 16%): .16\n",
            "The total cost is: 92.8\n"
          ]
        }
      ]
    }
  ]
}