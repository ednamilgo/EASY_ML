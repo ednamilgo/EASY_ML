{
  "nbformat": 4,
  "nbformat_minor": 0,
  "metadata": {
    "colab": {
      "provenance": [],
      "authorship_tag": "ABX9TyNZXopD8NmQG9QKW5NoGUPl",
      "include_colab_link": true
    },
    "kernelspec": {
      "name": "python3",
      "display_name": "Python 3"
    },
    "language_info": {
      "name": "python"
    }
  },
  "cells": [
    {
      "cell_type": "markdown",
      "metadata": {
        "id": "view-in-github",
        "colab_type": "text"
      },
      "source": [
        "<a href=\"https://colab.research.google.com/github/ednamilgo/EASY_ML/blob/main/Python_1(d)_numpy.ipynb\" target=\"_parent\"><img src=\"https://colab.research.google.com/assets/colab-badge.svg\" alt=\"Open In Colab\"/></a>"
      ]
    },
    {
      "cell_type": "markdown",
      "source": [
        "# Numpy"
      ],
      "metadata": {
        "id": "D3LixMcoB-35"
      }
    },
    {
      "cell_type": "code",
      "execution_count": 1,
      "metadata": {
        "id": "-mu8TFlIB47z"
      },
      "outputs": [],
      "source": [
        "import numpy as np"
      ]
    },
    {
      "cell_type": "markdown",
      "source": [
        "## Creating numpy array from list"
      ],
      "metadata": {
        "id": "e_PBZOK1CYUJ"
      }
    },
    {
      "cell_type": "code",
      "source": [
        "# Creating a numpy array from a list\n",
        "mylist=[23,67,78,5]"
      ],
      "metadata": {
        "id": "y3WKDzXjCDjV"
      },
      "execution_count": 2,
      "outputs": []
    },
    {
      "cell_type": "code",
      "source": [
        "my_np_list = np.array(mylist) # creating np array from a list\n",
        "my_np_list"
      ],
      "metadata": {
        "colab": {
          "base_uri": "https://localhost:8080/"
        },
        "id": "cikUSrTcCDpp",
        "outputId": "7f604b64-2370-486e-f5c0-1aabb0ab3b63"
      },
      "execution_count": 3,
      "outputs": [
        {
          "output_type": "execute_result",
          "data": {
            "text/plain": [
              "array([23, 67, 78,  5])"
            ]
          },
          "metadata": {},
          "execution_count": 3
        }
      ]
    },
    {
      "cell_type": "code",
      "source": [
        "## Another way of creating from a list\n",
        "marks1 =np.array([69,78,90,87])\n",
        "marks1"
      ],
      "metadata": {
        "colab": {
          "base_uri": "https://localhost:8080/"
        },
        "id": "A54PGl66CDvr",
        "outputId": "e12dc714-3e25-439b-db11-7e51bd67e53c"
      },
      "execution_count": 4,
      "outputs": [
        {
          "output_type": "execute_result",
          "data": {
            "text/plain": [
              "array([69, 78, 90, 87])"
            ]
          },
          "metadata": {},
          "execution_count": 4
        }
      ]
    },
    {
      "cell_type": "markdown",
      "source": [
        "## 1D array"
      ],
      "metadata": {
        "id": "crLHEYJyLdoQ"
      }
    },
    {
      "cell_type": "code",
      "source": [
        "array2 = np.array([2,-7.4,6,7.2])\n",
        "array2"
      ],
      "metadata": {
        "colab": {
          "base_uri": "https://localhost:8080/"
        },
        "id": "J0v8PtMSLg4N",
        "outputId": "8e09b1d5-f249-422c-dd5c-ca2c790f6643"
      },
      "execution_count": 5,
      "outputs": [
        {
          "output_type": "execute_result",
          "data": {
            "text/plain": [
              "array([ 2. , -7.4,  6. ,  7.2])"
            ]
          },
          "metadata": {},
          "execution_count": 5
        }
      ]
    },
    {
      "cell_type": "markdown",
      "source": [
        "# 2D array"
      ],
      "metadata": {
        "id": "wa90fn1mEsCT"
      }
    },
    {
      "cell_type": "code",
      "source": [
        "marks2 =np.array([[69,78,90,87],[98,76,77,86], [88,77,67,99]]) # creating a 2D array\n",
        "marks2"
      ],
      "metadata": {
        "colab": {
          "base_uri": "https://localhost:8080/"
        },
        "id": "KrI5N2GbCz2A",
        "outputId": "c6016f81-e2e8-4e70-e66b-5bd26320da94"
      },
      "execution_count": 6,
      "outputs": [
        {
          "output_type": "execute_result",
          "data": {
            "text/plain": [
              "array([[69, 78, 90, 87],\n",
              "       [98, 76, 77, 86],\n",
              "       [88, 77, 67, 99]])"
            ]
          },
          "metadata": {},
          "execution_count": 6
        }
      ]
    },
    {
      "cell_type": "markdown",
      "source": [
        "## Slicing array 1D array"
      ],
      "metadata": {
        "id": "0RvnMV9jE2an"
      }
    },
    {
      "cell_type": "code",
      "source": [
        "mylist[:-1]"
      ],
      "metadata": {
        "colab": {
          "base_uri": "https://localhost:8080/"
        },
        "id": "QB4Y8tZjE3vK",
        "outputId": "12a2e28f-bb4d-4560-bd69-4ef8dcc510f8"
      },
      "execution_count": 7,
      "outputs": [
        {
          "output_type": "execute_result",
          "data": {
            "text/plain": [
              "[23, 67, 78]"
            ]
          },
          "metadata": {},
          "execution_count": 7
        }
      ]
    },
    {
      "cell_type": "markdown",
      "source": [
        "## Slicing array 2D array-- row,column"
      ],
      "metadata": {
        "id": "8qTI6x_DE9I_"
      }
    },
    {
      "cell_type": "code",
      "source": [
        "marks2[1,:]"
      ],
      "metadata": {
        "colab": {
          "base_uri": "https://localhost:8080/"
        },
        "id": "zhPf6QwlFS2G",
        "outputId": "15dfb6e1-a391-47b3-ed8a-c65f907d4a8a"
      },
      "execution_count": 8,
      "outputs": [
        {
          "output_type": "execute_result",
          "data": {
            "text/plain": [
              "array([98, 76, 77, 86])"
            ]
          },
          "metadata": {},
          "execution_count": 8
        }
      ]
    },
    {
      "cell_type": "code",
      "source": [
        "marks2[:,1]"
      ],
      "metadata": {
        "colab": {
          "base_uri": "https://localhost:8080/"
        },
        "id": "M-oyip4OFXFe",
        "outputId": "4d0ce596-4090-41b5-febc-617150eb77ba"
      },
      "execution_count": 9,
      "outputs": [
        {
          "output_type": "execute_result",
          "data": {
            "text/plain": [
              "array([78, 76, 77])"
            ]
          },
          "metadata": {},
          "execution_count": 9
        }
      ]
    },
    {
      "cell_type": "code",
      "execution_count": 10,
      "metadata": {
        "id": "1272866c-81df-49ba-a7d5-f547b320d63f",
        "outputId": "f84098b3-173b-4d50-8622-9f50e6050e77",
        "colab": {
          "base_uri": "https://localhost:8080/"
        }
      },
      "outputs": [
        {
          "output_type": "execute_result",
          "data": {
            "text/plain": [
              "array([98, 76])"
            ]
          },
          "metadata": {},
          "execution_count": 10
        }
      ],
      "source": [
        "marks2[1,0:2]"
      ]
    },
    {
      "cell_type": "code",
      "execution_count": 11,
      "metadata": {
        "id": "3e58d57b-9d65-466b-a807-cda5e4119d6b",
        "outputId": "1d5e272e-065d-4d6d-d44b-b1c0a98c84f1",
        "colab": {
          "base_uri": "https://localhost:8080/"
        }
      },
      "outputs": [
        {
          "output_type": "execute_result",
          "data": {
            "text/plain": [
              "array([77, 67, 99])"
            ]
          },
          "metadata": {},
          "execution_count": 11
        }
      ],
      "source": [
        "marks2[2,1:4]"
      ]
    },
    {
      "cell_type": "code",
      "execution_count": 12,
      "metadata": {
        "id": "332a81c9-d721-4444-a8fe-62a610ba80d3",
        "outputId": "53afffc0-e7df-49ea-9c50-eb09039c9197",
        "colab": {
          "base_uri": "https://localhost:8080/"
        }
      },
      "outputs": [
        {
          "output_type": "execute_result",
          "data": {
            "text/plain": [
              "array([77, 67, 99])"
            ]
          },
          "metadata": {},
          "execution_count": 12
        }
      ],
      "source": [
        "marks2[2,1:4]"
      ]
    },
    {
      "cell_type": "code",
      "execution_count": 13,
      "metadata": {
        "id": "38bea37c-2548-4897-a87e-6925f3c9ab53",
        "outputId": "f6657b42-646d-44f2-fc0b-8671849f746b",
        "colab": {
          "base_uri": "https://localhost:8080/"
        }
      },
      "outputs": [
        {
          "output_type": "execute_result",
          "data": {
            "text/plain": [
              "array([77, 67, 99])"
            ]
          },
          "metadata": {},
          "execution_count": 13
        }
      ],
      "source": [
        "marks2[2,1:4]"
      ]
    },
    {
      "cell_type": "code",
      "execution_count": 14,
      "metadata": {
        "id": "dce749b2-df34-4f25-b9ae-23f1cd0a4b67",
        "outputId": "9ac8640f-cf33-45a9-8615-d4f5b940f0df",
        "colab": {
          "base_uri": "https://localhost:8080/"
        }
      },
      "outputs": [
        {
          "output_type": "execute_result",
          "data": {
            "text/plain": [
              "array([77, 67, 99])"
            ]
          },
          "metadata": {},
          "execution_count": 14
        }
      ],
      "source": [
        "marks2[2,1:]"
      ]
    },
    {
      "cell_type": "code",
      "source": [
        "marks2[1:3,2:3]"
      ],
      "metadata": {
        "colab": {
          "base_uri": "https://localhost:8080/"
        },
        "id": "4pZmpAMJFyfl",
        "outputId": "d17ad508-8e63-48ed-d8d1-c6a8e7768e5d"
      },
      "execution_count": 15,
      "outputs": [
        {
          "output_type": "execute_result",
          "data": {
            "text/plain": [
              "array([[77],\n",
              "       [67]])"
            ]
          },
          "metadata": {},
          "execution_count": 15
        }
      ]
    },
    {
      "cell_type": "markdown",
      "source": [
        "## Append"
      ],
      "metadata": {
        "id": "nmCuxMLfF0E2"
      }
    },
    {
      "cell_type": "code",
      "execution_count": 16,
      "metadata": {
        "id": "5215b64b-c568-4de3-a737-96b0e8da8309",
        "outputId": "ab396738-4c9b-4d9e-be66-8ba3e172303a",
        "colab": {
          "base_uri": "https://localhost:8080/"
        }
      },
      "outputs": [
        {
          "output_type": "execute_result",
          "data": {
            "text/plain": [
              "array([23, 67, 78,  5, 44, 55])"
            ]
          },
          "metadata": {},
          "execution_count": 16
        }
      ],
      "source": [
        "new_np_list= np.append(my_np_list, [44,55])\n",
        "new_np_list"
      ]
    },
    {
      "cell_type": "markdown",
      "metadata": {
        "id": "470b296d-c80c-4398-8c3a-75c4db33adce"
      },
      "source": [
        "## Sorting an array"
      ]
    },
    {
      "cell_type": "code",
      "execution_count": 17,
      "metadata": {
        "id": "ebeaa7f7-2f50-4c04-9bea-ee7dc863df5f",
        "outputId": "4a4e5fdf-0aae-478e-96f9-56907fa9bd25",
        "colab": {
          "base_uri": "https://localhost:8080/"
        }
      },
      "outputs": [
        {
          "output_type": "execute_result",
          "data": {
            "text/plain": [
              "array([ 5, 23, 44, 55, 67, 78])"
            ]
          },
          "metadata": {},
          "execution_count": 17
        }
      ],
      "source": [
        "np.sort(new_np_list) # Ascending order"
      ]
    },
    {
      "cell_type": "code",
      "execution_count": 18,
      "metadata": {
        "id": "2fd4e13f-e695-400d-97b2-c0d2752d54e9",
        "outputId": "762457b7-2ca7-4395-b08a-2cb17c83839c",
        "colab": {
          "base_uri": "https://localhost:8080/"
        }
      },
      "outputs": [
        {
          "output_type": "execute_result",
          "data": {
            "text/plain": [
              "array([78, 67, 55, 44, 23,  5])"
            ]
          },
          "metadata": {},
          "execution_count": 18
        }
      ],
      "source": [
        "np.sort(new_np_list)[::-1] # descending order"
      ]
    },
    {
      "cell_type": "code",
      "execution_count": 19,
      "metadata": {
        "id": "c485fd59-bdf6-4066-8d03-c7be2b1cd77a",
        "colab": {
          "base_uri": "https://localhost:8080/"
        },
        "outputId": "a0dc783a-fb2d-4b18-bfdd-186a5c70ed02"
      },
      "outputs": [
        {
          "output_type": "execute_result",
          "data": {
            "text/plain": [
              "array([78, 67, 55, 44, 23,  5])"
            ]
          },
          "metadata": {},
          "execution_count": 19
        }
      ],
      "source": [
        "ReversedArraySort = np.sort(new_np_list)[::-1]\n",
        "ReversedArraySort"
      ]
    },
    {
      "cell_type": "markdown",
      "source": [
        "## Reshaping Arrays"
      ],
      "metadata": {
        "id": "AteopExSN7hq"
      }
    },
    {
      "cell_type": "code",
      "source": [
        "array1 = np.arange(10,22)\n",
        "array1"
      ],
      "metadata": {
        "colab": {
          "base_uri": "https://localhost:8080/"
        },
        "id": "csab-vWeN5XJ",
        "outputId": "c483635d-85ae-43bd-fbb1-543b3cfc674e"
      },
      "execution_count": 20,
      "outputs": [
        {
          "output_type": "execute_result",
          "data": {
            "text/plain": [
              "array([10, 11, 12, 13, 14, 15, 16, 17, 18, 19, 20, 21])"
            ]
          },
          "metadata": {},
          "execution_count": 20
        }
      ]
    },
    {
      "cell_type": "code",
      "source": [
        "array2 = array1.reshape(3,4) #reshape\n",
        "array2"
      ],
      "metadata": {
        "colab": {
          "base_uri": "https://localhost:8080/"
        },
        "id": "U5f6qm7fN5aV",
        "outputId": "0afcf9e8-be26-48e8-cebd-bded85b12433"
      },
      "execution_count": 21,
      "outputs": [
        {
          "output_type": "execute_result",
          "data": {
            "text/plain": [
              "array([[10, 11, 12, 13],\n",
              "       [14, 15, 16, 17],\n",
              "       [18, 19, 20, 21]])"
            ]
          },
          "metadata": {},
          "execution_count": 21
        }
      ]
    },
    {
      "cell_type": "markdown",
      "metadata": {
        "id": "6cc6649c-72f1-455e-b0bd-acd07c5c8d15"
      },
      "source": [
        "# Statistical functions"
      ]
    },
    {
      "cell_type": "code",
      "execution_count": 22,
      "metadata": {
        "id": "36850a4f-e577-4af7-a55d-e20686a6f32c",
        "outputId": "4d7e8c74-a501-4d65-81a4-ed5fe23456bf",
        "colab": {
          "base_uri": "https://localhost:8080/"
        }
      },
      "outputs": [
        {
          "output_type": "execute_result",
          "data": {
            "text/plain": [
              "np.float64(45.333333333333336)"
            ]
          },
          "metadata": {},
          "execution_count": 22
        }
      ],
      "source": [
        "np.mean(new_np_list)"
      ]
    },
    {
      "cell_type": "code",
      "execution_count": 23,
      "metadata": {
        "id": "eb587183-ff7e-4927-8abf-74dd1fbff73b",
        "outputId": "9daaf745-8cfe-4d44-ab38-ae19e15c387d",
        "colab": {
          "base_uri": "https://localhost:8080/"
        }
      },
      "outputs": [
        {
          "output_type": "execute_result",
          "data": {
            "text/plain": [
              "np.int64(78)"
            ]
          },
          "metadata": {},
          "execution_count": 23
        }
      ],
      "source": [
        "np.max(new_np_list)"
      ]
    }
  ]
}