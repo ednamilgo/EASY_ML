{
  "cells": [
    {
      "cell_type": "markdown",
      "id": "04fc04cd-245a-4481-a641-e7c095ca843a",
      "metadata": {
        "id": "04fc04cd-245a-4481-a641-e7c095ca843a"
      },
      "source": [
        "# Data Types\n",
        "\n",
        "Python has four main built-in data structures\n",
        "\n",
        "\n",
        "1.   List\n",
        "2.   Tuple\n",
        "3.   Disctionary\n",
        "4.   Set\n"
      ]
    },
    {
      "cell_type": "code",
      "source": [],
      "metadata": {
        "id": "21JBHxcy8aoO"
      },
      "id": "21JBHxcy8aoO",
      "execution_count": null,
      "outputs": []
    },
    {
      "cell_type": "markdown",
      "source": [
        "# 1.  List\n",
        "\n",
        "* A list is an ordered collection that can hold any type of data\n",
        "\n",
        "* Uses square brackets **[]**\n",
        "\n",
        "* It is mutable\n",
        "\n",
        "\n"
      ],
      "metadata": {
        "id": "gUMt-WXK1XAd"
      },
      "id": "gUMt-WXK1XAd"
    },
    {
      "cell_type": "code",
      "execution_count": 1,
      "id": "c0fe3f08-d861-4b36-a873-8297b7c54683",
      "metadata": {
        "id": "c0fe3f08-d861-4b36-a873-8297b7c54683"
      },
      "outputs": [],
      "source": [
        "fruits = [\"apple\", \"banana\", \"mango\"]"
      ]
    },
    {
      "cell_type": "code",
      "source": [
        "fruits[0]"
      ],
      "metadata": {
        "colab": {
          "base_uri": "https://localhost:8080/",
          "height": 35
        },
        "id": "cmFflSwv18Cs",
        "outputId": "bc5ad3f8-40eb-4602-aada-7f240e489823"
      },
      "id": "cmFflSwv18Cs",
      "execution_count": 2,
      "outputs": [
        {
          "output_type": "execute_result",
          "data": {
            "text/plain": [
              "'apple'"
            ],
            "application/vnd.google.colaboratory.intrinsic+json": {
              "type": "string"
            }
          },
          "metadata": {},
          "execution_count": 2
        }
      ]
    },
    {
      "cell_type": "code",
      "source": [
        "fruits[2]"
      ],
      "metadata": {
        "colab": {
          "base_uri": "https://localhost:8080/",
          "height": 35
        },
        "id": "wbW0lB1O18F7",
        "outputId": "283f2c4c-0e4b-49e5-a118-991ff03f6611"
      },
      "id": "wbW0lB1O18F7",
      "execution_count": 3,
      "outputs": [
        {
          "output_type": "execute_result",
          "data": {
            "text/plain": [
              "'mango'"
            ],
            "application/vnd.google.colaboratory.intrinsic+json": {
              "type": "string"
            }
          },
          "metadata": {},
          "execution_count": 3
        }
      ]
    },
    {
      "cell_type": "code",
      "execution_count": 4,
      "id": "b34dd8cc-4b9a-46f4-9434-08cd182d2a15",
      "metadata": {
        "colab": {
          "base_uri": "https://localhost:8080/"
        },
        "id": "b34dd8cc-4b9a-46f4-9434-08cd182d2a15",
        "outputId": "282df537-3a90-4f2d-ab85-30a0e824da69"
      },
      "outputs": [
        {
          "output_type": "execute_result",
          "data": {
            "text/plain": [
              "list"
            ]
          },
          "metadata": {},
          "execution_count": 4
        }
      ],
      "source": [
        "type(fruits)"
      ]
    },
    {
      "cell_type": "code",
      "source": [
        "fruits_list=[\"mango\",\"apple\", \"Banana\", \"Orange\",\"grape\", \"passion\", \"pineapple\"]"
      ],
      "metadata": {
        "id": "sBG14qh82V0u"
      },
      "id": "sBG14qh82V0u",
      "execution_count": 5,
      "outputs": []
    },
    {
      "cell_type": "code",
      "source": [
        "fruits_list"
      ],
      "metadata": {
        "colab": {
          "base_uri": "https://localhost:8080/"
        },
        "id": "qW1jtjkp2V9x",
        "outputId": "759b4776-1a0a-4cc9-d71a-a5fa3e67f42b"
      },
      "id": "qW1jtjkp2V9x",
      "execution_count": 6,
      "outputs": [
        {
          "output_type": "execute_result",
          "data": {
            "text/plain": [
              "['mango', 'apple', 'Banana', 'Orange', 'grape', 'passion', 'pineapple']"
            ]
          },
          "metadata": {},
          "execution_count": 6
        }
      ]
    },
    {
      "cell_type": "markdown",
      "source": [
        "## Positive and negative indices"
      ],
      "metadata": {
        "id": "MP7JiQkr-oRT"
      },
      "id": "MP7JiQkr-oRT"
    },
    {
      "cell_type": "code",
      "source": [
        "fruits_list[0]"
      ],
      "metadata": {
        "colab": {
          "base_uri": "https://localhost:8080/",
          "height": 35
        },
        "id": "SpyZrprY2WBE",
        "outputId": "6a5c57d6-6eb6-4a4a-a93d-6539ff17592b"
      },
      "id": "SpyZrprY2WBE",
      "execution_count": 7,
      "outputs": [
        {
          "output_type": "execute_result",
          "data": {
            "text/plain": [
              "'mango'"
            ],
            "application/vnd.google.colaboratory.intrinsic+json": {
              "type": "string"
            }
          },
          "metadata": {},
          "execution_count": 7
        }
      ]
    },
    {
      "cell_type": "code",
      "source": [
        "fruits_list[1]"
      ],
      "metadata": {
        "colab": {
          "base_uri": "https://localhost:8080/",
          "height": 35
        },
        "id": "SmRF2bBD-KK_",
        "outputId": "bfd7c148-e8a8-471d-d5eb-fa58adf738b4"
      },
      "id": "SmRF2bBD-KK_",
      "execution_count": 8,
      "outputs": [
        {
          "output_type": "execute_result",
          "data": {
            "text/plain": [
              "'apple'"
            ],
            "application/vnd.google.colaboratory.intrinsic+json": {
              "type": "string"
            }
          },
          "metadata": {},
          "execution_count": 8
        }
      ]
    },
    {
      "cell_type": "markdown",
      "source": [
        "## Negative indices count from end"
      ],
      "metadata": {
        "id": "LBLD-Hfn95Q4"
      },
      "id": "LBLD-Hfn95Q4"
    },
    {
      "cell_type": "code",
      "source": [
        "fruits_list[-1]"
      ],
      "metadata": {
        "colab": {
          "base_uri": "https://localhost:8080/",
          "height": 35
        },
        "id": "pc3VxUdf93UH",
        "outputId": "18fea4e8-e90a-4d58-9809-09c0c6845350"
      },
      "id": "pc3VxUdf93UH",
      "execution_count": 9,
      "outputs": [
        {
          "output_type": "execute_result",
          "data": {
            "text/plain": [
              "'pineapple'"
            ],
            "application/vnd.google.colaboratory.intrinsic+json": {
              "type": "string"
            }
          },
          "metadata": {},
          "execution_count": 9
        }
      ]
    },
    {
      "cell_type": "markdown",
      "source": [
        "## Slicing: return copy of a subset"
      ],
      "metadata": {
        "id": "wEfaZMnk9g7S"
      },
      "id": "wEfaZMnk9g7S"
    },
    {
      "cell_type": "code",
      "source": [
        "fruits_list[0:2] # range"
      ],
      "metadata": {
        "colab": {
          "base_uri": "https://localhost:8080/"
        },
        "id": "ZsjjfTvD-PQN",
        "outputId": "18c3b46a-4a82-4a4e-9447-3f1a54a61105"
      },
      "id": "ZsjjfTvD-PQN",
      "execution_count": 10,
      "outputs": [
        {
          "output_type": "execute_result",
          "data": {
            "text/plain": [
              "['mango', 'apple']"
            ]
          },
          "metadata": {},
          "execution_count": 10
        }
      ]
    },
    {
      "cell_type": "code",
      "source": [
        "fruits_list[:4] # to index 4"
      ],
      "metadata": {
        "colab": {
          "base_uri": "https://localhost:8080/"
        },
        "id": "nUFnp2Ud-wDm",
        "outputId": "730d1460-6939-4026-afc1-784e7e444abd"
      },
      "id": "nUFnp2Ud-wDm",
      "execution_count": 11,
      "outputs": [
        {
          "output_type": "execute_result",
          "data": {
            "text/plain": [
              "['mango', 'apple', 'Banana', 'Orange']"
            ]
          },
          "metadata": {},
          "execution_count": 11
        }
      ]
    },
    {
      "cell_type": "code",
      "source": [
        "fruits_list[4:] # from index 4"
      ],
      "metadata": {
        "colab": {
          "base_uri": "https://localhost:8080/"
        },
        "id": "c-CGudZt-wG5",
        "outputId": "944090e7-94c6-400b-dc0e-1e149fc3f0da"
      },
      "id": "c-CGudZt-wG5",
      "execution_count": 12,
      "outputs": [
        {
          "output_type": "execute_result",
          "data": {
            "text/plain": [
              "['grape', 'passion', 'pineapple']"
            ]
          },
          "metadata": {},
          "execution_count": 12
        }
      ]
    },
    {
      "cell_type": "markdown",
      "source": [
        "## Copying the Whole Sequence"
      ],
      "metadata": {
        "id": "aYduS0Xe9sht"
      },
      "id": "aYduS0Xe9sht"
    },
    {
      "cell_type": "code",
      "source": [
        "fruits_list[:]# all"
      ],
      "metadata": {
        "colab": {
          "base_uri": "https://localhost:8080/"
        },
        "id": "UWm78KCN_EQL",
        "outputId": "175d450b-53b6-4e2c-f7d0-4c3b0251fc60"
      },
      "id": "UWm78KCN_EQL",
      "execution_count": 13,
      "outputs": [
        {
          "output_type": "execute_result",
          "data": {
            "text/plain": [
              "['mango', 'apple', 'Banana', 'Orange', 'grape', 'passion', 'pineapple']"
            ]
          },
          "metadata": {},
          "execution_count": 13
        }
      ]
    },
    {
      "cell_type": "code",
      "source": [
        "fruits_list[:-1] # all upto the last"
      ],
      "metadata": {
        "colab": {
          "base_uri": "https://localhost:8080/"
        },
        "id": "lO8ufmJC_EaM",
        "outputId": "0ac84bb5-a10b-4367-f1d3-9e3685cf73e4"
      },
      "id": "lO8ufmJC_EaM",
      "execution_count": 14,
      "outputs": [
        {
          "output_type": "execute_result",
          "data": {
            "text/plain": [
              "['mango', 'apple', 'Banana', 'Orange', 'grape', 'passion']"
            ]
          },
          "metadata": {},
          "execution_count": 14
        }
      ]
    },
    {
      "cell_type": "markdown",
      "source": [
        "## Reversing he order"
      ],
      "metadata": {
        "id": "t4PwsDXI-Om1"
      },
      "id": "t4PwsDXI-Om1"
    },
    {
      "cell_type": "code",
      "source": [
        "fruits_list[::-1] # Reverse"
      ],
      "metadata": {
        "colab": {
          "base_uri": "https://localhost:8080/"
        },
        "id": "zqlqCETK_Eje",
        "outputId": "c2d34771-c16a-45ee-dd89-c0ea4f655106"
      },
      "id": "zqlqCETK_Eje",
      "execution_count": 15,
      "outputs": [
        {
          "output_type": "execute_result",
          "data": {
            "text/plain": [
              "['pineapple', 'passion', 'grape', 'Orange', 'Banana', 'apple', 'mango']"
            ]
          },
          "metadata": {},
          "execution_count": 15
        }
      ]
    },
    {
      "cell_type": "markdown",
      "source": [
        "## Replacing an item in the list"
      ],
      "metadata": {
        "id": "5iQQqZHU-WPz"
      },
      "id": "5iQQqZHU-WPz"
    },
    {
      "cell_type": "code",
      "execution_count": 16,
      "id": "56d6fe74-761c-48c2-a86c-fa4fcb4d8b80",
      "metadata": {
        "id": "56d6fe74-761c-48c2-a86c-fa4fcb4d8b80"
      },
      "outputs": [],
      "source": [
        "fruits_list[1]=\"new fruit\"  # Replace"
      ]
    },
    {
      "cell_type": "code",
      "execution_count": 17,
      "id": "0120328e-fa79-42b1-87c6-efb855ac86d7",
      "metadata": {
        "colab": {
          "base_uri": "https://localhost:8080/"
        },
        "id": "0120328e-fa79-42b1-87c6-efb855ac86d7",
        "outputId": "c813199f-1e38-4ae7-fef4-d1610d8b95bd"
      },
      "outputs": [
        {
          "output_type": "execute_result",
          "data": {
            "text/plain": [
              "['mango', 'new fruit', 'Banana', 'Orange', 'grape', 'passion', 'pineapple']"
            ]
          },
          "metadata": {},
          "execution_count": 17
        }
      ],
      "source": [
        "fruits_list"
      ]
    },
    {
      "cell_type": "markdown",
      "source": [
        "## in operator"
      ],
      "metadata": {
        "id": "rVd6YTVf_aIh"
      },
      "id": "rVd6YTVf_aIh"
    },
    {
      "cell_type": "code",
      "execution_count": 18,
      "id": "a878d131-32f5-4701-b63d-6e5f2943fd09",
      "metadata": {
        "colab": {
          "base_uri": "https://localhost:8080/"
        },
        "id": "a878d131-32f5-4701-b63d-6e5f2943fd09",
        "outputId": "ed479c91-5303-4e26-9bf3-898f632c2b2a"
      },
      "outputs": [
        {
          "output_type": "execute_result",
          "data": {
            "text/plain": [
              "True"
            ]
          },
          "metadata": {},
          "execution_count": 18
        }
      ],
      "source": [
        "\"mango\" in fruits_list"
      ]
    },
    {
      "cell_type": "markdown",
      "source": [
        "## Combining two lists"
      ],
      "metadata": {
        "id": "Bsdnx3Oj_dSz"
      },
      "id": "Bsdnx3Oj_dSz"
    },
    {
      "cell_type": "code",
      "execution_count": 19,
      "id": "3ae21b8d-de5f-4163-91cf-fe57c597bb62",
      "metadata": {
        "id": "3ae21b8d-de5f-4163-91cf-fe57c597bb62"
      },
      "outputs": [],
      "source": [
        "fruits_list2=[\"watermelom\",50, \"Guava\",25]"
      ]
    },
    {
      "cell_type": "code",
      "execution_count": 20,
      "id": "00cd425c-4f3e-433a-bb5a-441d70ec22c7",
      "metadata": {
        "id": "00cd425c-4f3e-433a-bb5a-441d70ec22c7"
      },
      "outputs": [],
      "source": [
        "combined_list = fruits_list+fruits_list2"
      ]
    },
    {
      "cell_type": "code",
      "execution_count": 21,
      "id": "a8999301-7b32-4aeb-9915-ff08f71b9d5f",
      "metadata": {
        "colab": {
          "base_uri": "https://localhost:8080/"
        },
        "id": "a8999301-7b32-4aeb-9915-ff08f71b9d5f",
        "outputId": "175fe39d-5305-4116-da0c-28bbf3128ff6"
      },
      "outputs": [
        {
          "output_type": "execute_result",
          "data": {
            "text/plain": [
              "['mango',\n",
              " 'new fruit',\n",
              " 'Banana',\n",
              " 'Orange',\n",
              " 'grape',\n",
              " 'passion',\n",
              " 'pineapple',\n",
              " 'watermelom',\n",
              " 50,\n",
              " 'Guava',\n",
              " 25]"
            ]
          },
          "metadata": {},
          "execution_count": 21
        }
      ],
      "source": [
        "combined_list"
      ]
    },
    {
      "cell_type": "markdown",
      "source": [
        "## Multiplying a list"
      ],
      "metadata": {
        "id": "XKItrsh7_x07"
      },
      "id": "XKItrsh7_x07"
    },
    {
      "cell_type": "code",
      "execution_count": 22,
      "id": "e10138b5-377b-4b73-a090-ec36bbb3e42f",
      "metadata": {
        "colab": {
          "base_uri": "https://localhost:8080/"
        },
        "id": "e10138b5-377b-4b73-a090-ec36bbb3e42f",
        "outputId": "55636513-1b70-451f-f55c-049db897fd6a"
      },
      "outputs": [
        {
          "output_type": "execute_result",
          "data": {
            "text/plain": [
              "['mango',\n",
              " 'new fruit',\n",
              " 'Banana',\n",
              " 'Orange',\n",
              " 'grape',\n",
              " 'passion',\n",
              " 'pineapple',\n",
              " 'mango',\n",
              " 'new fruit',\n",
              " 'Banana',\n",
              " 'Orange',\n",
              " 'grape',\n",
              " 'passion',\n",
              " 'pineapple',\n",
              " 'mango',\n",
              " 'new fruit',\n",
              " 'Banana',\n",
              " 'Orange',\n",
              " 'grape',\n",
              " 'passion',\n",
              " 'pineapple']"
            ]
          },
          "metadata": {},
          "execution_count": 22
        }
      ],
      "source": [
        "fruits_list*3"
      ]
    },
    {
      "cell_type": "markdown",
      "source": [
        "# 2.  Tuple\n",
        "\n",
        "* A simple **immutable** ordered sequence of items\n",
        "\n",
        "* Items can be of mixed types, including collection types\n",
        "* Uses parentheses ()\n",
        "* Items are accessed using their position in the tuple\n",
        "* It is ordered\n",
        "\n"
      ],
      "metadata": {
        "id": "VSlZyL6X_SIc"
      },
      "id": "VSlZyL6X_SIc"
    },
    {
      "cell_type": "code",
      "source": [
        "tu = (23, 'abc', 4.56, (2,3), 'def')"
      ],
      "metadata": {
        "id": "QhzOFCzCAKNv"
      },
      "id": "QhzOFCzCAKNv",
      "execution_count": 23,
      "outputs": []
    },
    {
      "cell_type": "code",
      "source": [
        "tu[0]"
      ],
      "metadata": {
        "colab": {
          "base_uri": "https://localhost:8080/"
        },
        "id": "0AE6ucn-AKQr",
        "outputId": "22e6db0d-3b99-4831-e1bc-abf9c4ae8c28"
      },
      "id": "0AE6ucn-AKQr",
      "execution_count": 24,
      "outputs": [
        {
          "output_type": "execute_result",
          "data": {
            "text/plain": [
              "23"
            ]
          },
          "metadata": {},
          "execution_count": 24
        }
      ]
    },
    {
      "cell_type": "code",
      "source": [
        "tu[-1]"
      ],
      "metadata": {
        "colab": {
          "base_uri": "https://localhost:8080/",
          "height": 35
        },
        "id": "ylCh8IauAKUD",
        "outputId": "ef7b95c9-e8ea-48eb-9821-42d88c296444"
      },
      "id": "ylCh8IauAKUD",
      "execution_count": 25,
      "outputs": [
        {
          "output_type": "execute_result",
          "data": {
            "text/plain": [
              "'def'"
            ],
            "application/vnd.google.colaboratory.intrinsic+json": {
              "type": "string"
            }
          },
          "metadata": {},
          "execution_count": 25
        }
      ]
    },
    {
      "cell_type": "code",
      "source": [
        "type(tu)"
      ],
      "metadata": {
        "colab": {
          "base_uri": "https://localhost:8080/"
        },
        "id": "jOtBk_6iAKXu",
        "outputId": "fab3bb94-50e6-43e6-84a5-96ab0c18fdc6"
      },
      "id": "jOtBk_6iAKXu",
      "execution_count": 26,
      "outputs": [
        {
          "output_type": "execute_result",
          "data": {
            "text/plain": [
              "tuple"
            ]
          },
          "metadata": {},
          "execution_count": 26
        }
      ]
    },
    {
      "cell_type": "markdown",
      "source": [
        "## Slicing"
      ],
      "metadata": {
        "id": "pKt5C7HKB4VX"
      },
      "id": "pKt5C7HKB4VX"
    },
    {
      "cell_type": "code",
      "source": [
        "tu[1:4]"
      ],
      "metadata": {
        "colab": {
          "base_uri": "https://localhost:8080/"
        },
        "id": "3ZORvr14B8dd",
        "outputId": "7cb0742a-bbba-4332-9ed3-ec2123e69fa3"
      },
      "id": "3ZORvr14B8dd",
      "execution_count": 27,
      "outputs": [
        {
          "output_type": "execute_result",
          "data": {
            "text/plain": [
              "('abc', 4.56, (2, 3))"
            ]
          },
          "metadata": {},
          "execution_count": 27
        }
      ]
    },
    {
      "cell_type": "code",
      "source": [
        "tu[1:]"
      ],
      "metadata": {
        "colab": {
          "base_uri": "https://localhost:8080/"
        },
        "id": "sNFRtpD_B8gv",
        "outputId": "9721d3b4-cd76-4af5-af9d-eb3dcafb2be1"
      },
      "id": "sNFRtpD_B8gv",
      "execution_count": 28,
      "outputs": [
        {
          "output_type": "execute_result",
          "data": {
            "text/plain": [
              "('abc', 4.56, (2, 3), 'def')"
            ]
          },
          "metadata": {},
          "execution_count": 28
        }
      ]
    },
    {
      "cell_type": "code",
      "source": [
        "tu[::-1]"
      ],
      "metadata": {
        "colab": {
          "base_uri": "https://localhost:8080/"
        },
        "id": "gAnVIvSnB8jR",
        "outputId": "0f3c4b68-9cbb-4804-a9b9-c4c1903f5076"
      },
      "id": "gAnVIvSnB8jR",
      "execution_count": 29,
      "outputs": [
        {
          "output_type": "execute_result",
          "data": {
            "text/plain": [
              "('def', (2, 3), 4.56, 'abc', 23)"
            ]
          },
          "metadata": {},
          "execution_count": 29
        }
      ]
    },
    {
      "cell_type": "code",
      "source": [],
      "metadata": {
        "id": "sRfrASV5B8m8"
      },
      "id": "sRfrASV5B8m8",
      "execution_count": 29,
      "outputs": []
    },
    {
      "cell_type": "markdown",
      "source": [
        "#3. Dictionaries\n",
        "\n",
        "* Data structures which are used to store values which are accessed by their keys.\n",
        "* Uses curly braces {}\n",
        "\n",
        "* Dictionaries store a mapping between a set of keys and a set of values\n"
      ],
      "metadata": {
        "id": "am7BBw8s2Wgg"
      },
      "id": "am7BBw8s2Wgg"
    },
    {
      "cell_type": "code",
      "execution_count": 30,
      "id": "65fdf625-da22-440f-930c-27e1ed428c5f",
      "metadata": {
        "id": "65fdf625-da22-440f-930c-27e1ed428c5f"
      },
      "outputs": [],
      "source": [
        "dict1 = {'Ten': 10, 'Twenty': 20, 'Thirty': 30}"
      ]
    },
    {
      "cell_type": "code",
      "source": [
        "dict1"
      ],
      "metadata": {
        "colab": {
          "base_uri": "https://localhost:8080/"
        },
        "id": "xH-hQaX3DMI2",
        "outputId": "067c4799-60ce-4848-a679-6c04c6af924a"
      },
      "id": "xH-hQaX3DMI2",
      "execution_count": 31,
      "outputs": [
        {
          "output_type": "execute_result",
          "data": {
            "text/plain": [
              "{'Ten': 10, 'Twenty': 20, 'Thirty': 30}"
            ]
          },
          "metadata": {},
          "execution_count": 31
        }
      ]
    },
    {
      "cell_type": "code",
      "source": [
        "type(dict1)"
      ],
      "metadata": {
        "colab": {
          "base_uri": "https://localhost:8080/"
        },
        "id": "3DUU7QkgCqba",
        "outputId": "b87ef6a7-1191-457f-cc27-044951f19287"
      },
      "id": "3DUU7QkgCqba",
      "execution_count": 32,
      "outputs": [
        {
          "output_type": "execute_result",
          "data": {
            "text/plain": [
              "dict"
            ]
          },
          "metadata": {},
          "execution_count": 32
        }
      ]
    },
    {
      "cell_type": "code",
      "source": [
        "dict1['Ten']"
      ],
      "metadata": {
        "colab": {
          "base_uri": "https://localhost:8080/"
        },
        "id": "eslHIK42DPVh",
        "outputId": "c001229a-15b2-4d95-bea3-99b348157933"
      },
      "id": "eslHIK42DPVh",
      "execution_count": 33,
      "outputs": [
        {
          "output_type": "execute_result",
          "data": {
            "text/plain": [
              "10"
            ]
          },
          "metadata": {},
          "execution_count": 33
        }
      ]
    },
    {
      "cell_type": "markdown",
      "source": [
        "## Modifying a key"
      ],
      "metadata": {
        "id": "3V96Rqz6Ehle"
      },
      "id": "3V96Rqz6Ehle"
    },
    {
      "cell_type": "code",
      "source": [
        "dict2 =  {'user':'user1', 'pswd':1234}"
      ],
      "metadata": {
        "id": "tK9c8NrWEjnt"
      },
      "id": "tK9c8NrWEjnt",
      "execution_count": 34,
      "outputs": []
    },
    {
      "cell_type": "code",
      "source": [
        "dict2['user'] = 'John'"
      ],
      "metadata": {
        "id": "ZHT_b5-AEjqo"
      },
      "id": "ZHT_b5-AEjqo",
      "execution_count": 35,
      "outputs": []
    },
    {
      "cell_type": "code",
      "source": [
        "dict2"
      ],
      "metadata": {
        "colab": {
          "base_uri": "https://localhost:8080/"
        },
        "id": "tzlQoQFlEjty",
        "outputId": "b732aaa7-6382-4c1b-95d4-19a843a4f0c7"
      },
      "id": "tzlQoQFlEjty",
      "execution_count": 36,
      "outputs": [
        {
          "output_type": "execute_result",
          "data": {
            "text/plain": [
              "{'user': 'John', 'pswd': 1234}"
            ]
          },
          "metadata": {},
          "execution_count": 36
        }
      ]
    },
    {
      "cell_type": "markdown",
      "source": [
        "## Adding Elements to a Dictonary"
      ],
      "metadata": {
        "id": "on1bYNJmFaIl"
      },
      "id": "on1bYNJmFaIl"
    },
    {
      "cell_type": "code",
      "source": [
        "dict2['email'] = 'user@Ml.com'"
      ],
      "metadata": {
        "id": "5Cpu3LCXEjx4"
      },
      "id": "5Cpu3LCXEjx4",
      "execution_count": 37,
      "outputs": []
    },
    {
      "cell_type": "code",
      "source": [
        "dict2"
      ],
      "metadata": {
        "colab": {
          "base_uri": "https://localhost:8080/"
        },
        "id": "emWZtK4bEj1X",
        "outputId": "49e05187-ef66-4d56-da2a-842794232c8d"
      },
      "id": "emWZtK4bEj1X",
      "execution_count": 38,
      "outputs": [
        {
          "output_type": "execute_result",
          "data": {
            "text/plain": [
              "{'user': 'John', 'pswd': 1234, 'email': 'user@Ml.com'}"
            ]
          },
          "metadata": {},
          "execution_count": 38
        }
      ]
    },
    {
      "cell_type": "markdown",
      "source": [
        "## Deletng Elements from a Dictonary"
      ],
      "metadata": {
        "id": "IxdYToC2Ftr-"
      },
      "id": "IxdYToC2Ftr-"
    },
    {
      "cell_type": "code",
      "source": [
        "dict2.pop('email')"
      ],
      "metadata": {
        "colab": {
          "base_uri": "https://localhost:8080/",
          "height": 35
        },
        "id": "jK9qDYTUFxbJ",
        "outputId": "36490529-7cbb-4dd7-d95d-640285041174"
      },
      "id": "jK9qDYTUFxbJ",
      "execution_count": 39,
      "outputs": [
        {
          "output_type": "execute_result",
          "data": {
            "text/plain": [
              "'user@Ml.com'"
            ],
            "application/vnd.google.colaboratory.intrinsic+json": {
              "type": "string"
            }
          },
          "metadata": {},
          "execution_count": 39
        }
      ]
    },
    {
      "cell_type": "code",
      "source": [
        "dict2"
      ],
      "metadata": {
        "colab": {
          "base_uri": "https://localhost:8080/"
        },
        "id": "HosuARrIFxep",
        "outputId": "61810e1d-de74-4a7b-bdce-fd783d922a73"
      },
      "id": "HosuARrIFxep",
      "execution_count": 40,
      "outputs": [
        {
          "output_type": "execute_result",
          "data": {
            "text/plain": [
              "{'user': 'John', 'pswd': 1234}"
            ]
          },
          "metadata": {},
          "execution_count": 40
        }
      ]
    },
    {
      "cell_type": "code",
      "source": [],
      "metadata": {
        "id": "4QInavd9Fxiw"
      },
      "id": "4QInavd9Fxiw",
      "execution_count": 40,
      "outputs": []
    },
    {
      "cell_type": "markdown",
      "source": [
        "## Other functons\n",
        "\n",
        "\n",
        "* dict.clear()    - Removes all the elements from dictionary dict\n",
        "\n",
        "\n",
        "* dict.copy()    - Returns a copy of dictionary dict\n",
        "* dict.items()     - Returns a list containing a tuple for each key-value pair in dictionary dict\n",
        "* dict.get(k)    - Returns the value of the specified key k from dictionary dict\n",
        "* dict.keys()     - Returns a list containing all the keys of dictionary dict\n",
        "* dic.pop(k)     - Removes the element with the specified key k from dictionary dict\n",
        "* dic.values()   - Returns a list of all the values in dictionary dict\n",
        "\n"
      ],
      "metadata": {
        "id": "SiyJSHHaGGFR"
      },
      "id": "SiyJSHHaGGFR"
    },
    {
      "cell_type": "code",
      "source": [],
      "metadata": {
        "id": "d13II_E7Fxmc"
      },
      "id": "d13II_E7Fxmc",
      "execution_count": 40,
      "outputs": []
    },
    {
      "cell_type": "markdown",
      "source": [
        "## Convert two lists into a dictonary\n",
        "\n"
      ],
      "metadata": {
        "id": "CFMVCokDH3R3"
      },
      "id": "CFMVCokDH3R3"
    },
    {
      "cell_type": "code",
      "source": [
        "keys = ['Ten', 'Twenty', 'Thirty']\n",
        "values = [10, 20, 30]"
      ],
      "metadata": {
        "id": "ghMm8n7LFxpF"
      },
      "id": "ghMm8n7LFxpF",
      "execution_count": 41,
      "outputs": []
    },
    {
      "cell_type": "code",
      "source": [
        "combined_dict=dict(zip(keys,values))"
      ],
      "metadata": {
        "id": "ya1GkR4UFxs9"
      },
      "id": "ya1GkR4UFxs9",
      "execution_count": 42,
      "outputs": []
    },
    {
      "cell_type": "code",
      "source": [
        "combined_dict"
      ],
      "metadata": {
        "colab": {
          "base_uri": "https://localhost:8080/"
        },
        "id": "TstMpakcIKiz",
        "outputId": "07143a88-16fc-47d6-9aed-493c33fc3cc6"
      },
      "id": "TstMpakcIKiz",
      "execution_count": 43,
      "outputs": [
        {
          "output_type": "execute_result",
          "data": {
            "text/plain": [
              "{'Ten': 10, 'Twenty': 20, 'Thirty': 30}"
            ]
          },
          "metadata": {},
          "execution_count": 43
        }
      ]
    },
    {
      "cell_type": "markdown",
      "source": [
        "## Merge two Python dictonaries"
      ],
      "metadata": {
        "id": "2Zi92em6ISEV"
      },
      "id": "2Zi92em6ISEV"
    },
    {
      "cell_type": "code",
      "source": [
        "dict1 = {'Ten': 10, 'Twenty': 20, 'Thirty': 30}\n",
        "dict2 = {'Fourty': 40, 'Fify': 50, 'sixty':60}"
      ],
      "metadata": {
        "id": "sIm84bMkIKnu"
      },
      "id": "sIm84bMkIKnu",
      "execution_count": 44,
      "outputs": []
    },
    {
      "cell_type": "code",
      "execution_count": 45,
      "id": "859115f8-bb1c-4abb-bd89-95d55718fc0e",
      "metadata": {
        "id": "859115f8-bb1c-4abb-bd89-95d55718fc0e"
      },
      "outputs": [],
      "source": [
        "merged_dict=dict(**dict1,**dict2)"
      ]
    },
    {
      "cell_type": "code",
      "execution_count": 46,
      "id": "8392c7dc-d4c7-4c5a-ad67-de5b66cc8c0d",
      "metadata": {
        "colab": {
          "base_uri": "https://localhost:8080/"
        },
        "id": "8392c7dc-d4c7-4c5a-ad67-de5b66cc8c0d",
        "outputId": "0adb9fbf-30ed-4188-b4cd-371558f87da1"
      },
      "outputs": [
        {
          "output_type": "execute_result",
          "data": {
            "text/plain": [
              "{'Ten': 10, 'Twenty': 20, 'Thirty': 30, 'Fourty': 40, 'Fify': 50, 'sixty': 60}"
            ]
          },
          "metadata": {},
          "execution_count": 46
        }
      ],
      "source": [
        "merged_dict"
      ]
    },
    {
      "cell_type": "markdown",
      "source": [
        "# 4. Set\n",
        "\n",
        "* An unordered collection of unique items\n",
        "\n",
        "* Removes duplicates automatically\n",
        "\n",
        "* Uses curly braces {}, but different from dictionaries\n"
      ],
      "metadata": {
        "id": "4-9gTAGKJp7I"
      },
      "id": "4-9gTAGKJp7I"
    },
    {
      "cell_type": "code",
      "source": [
        "fruits_set = {\"apple\", \"banana\"}"
      ],
      "metadata": {
        "id": "s8_S4gbuJw0x"
      },
      "id": "s8_S4gbuJw0x",
      "execution_count": 47,
      "outputs": []
    },
    {
      "cell_type": "code",
      "source": [
        "type(fruits_set)"
      ],
      "metadata": {
        "colab": {
          "base_uri": "https://localhost:8080/"
        },
        "id": "JO8lVfmpJw4m",
        "outputId": "2bcdaa9f-1f45-4d8e-ede3-4085a54a1c68"
      },
      "id": "JO8lVfmpJw4m",
      "execution_count": 48,
      "outputs": [
        {
          "output_type": "execute_result",
          "data": {
            "text/plain": [
              "set"
            ]
          },
          "metadata": {},
          "execution_count": 48
        }
      ]
    },
    {
      "cell_type": "code",
      "source": [
        "fruits.add(\"orange\")"
      ],
      "metadata": {
        "colab": {
          "base_uri": "https://localhost:8080/",
          "height": 141
        },
        "id": "gwV9vA-VJw8U",
        "outputId": "00068067-93bc-4a3d-9dbd-99a1c8ae68e9"
      },
      "id": "gwV9vA-VJw8U",
      "execution_count": 49,
      "outputs": [
        {
          "output_type": "error",
          "ename": "AttributeError",
          "evalue": "'list' object has no attribute 'add'",
          "traceback": [
            "\u001b[0;31m---------------------------------------------------------------------------\u001b[0m",
            "\u001b[0;31mAttributeError\u001b[0m                            Traceback (most recent call last)",
            "\u001b[0;32m/tmp/ipython-input-49-1258908868.py\u001b[0m in \u001b[0;36m<cell line: 0>\u001b[0;34m()\u001b[0m\n\u001b[0;32m----> 1\u001b[0;31m \u001b[0mfruits\u001b[0m\u001b[0;34m.\u001b[0m\u001b[0madd\u001b[0m\u001b[0;34m(\u001b[0m\u001b[0;34m\"orange\"\u001b[0m\u001b[0;34m)\u001b[0m\u001b[0;34m\u001b[0m\u001b[0;34m\u001b[0m\u001b[0m\n\u001b[0m",
            "\u001b[0;31mAttributeError\u001b[0m: 'list' object has no attribute 'add'"
          ]
        }
      ]
    },
    {
      "cell_type": "code",
      "source": [
        "fruits"
      ],
      "metadata": {
        "id": "ZGFQPo7_Jw__"
      },
      "id": "ZGFQPo7_Jw__",
      "execution_count": null,
      "outputs": []
    },
    {
      "cell_type": "code",
      "source": [
        "\"apple\" in fruits"
      ],
      "metadata": {
        "id": "QTnHWhYsKVTm"
      },
      "id": "QTnHWhYsKVTm",
      "execution_count": null,
      "outputs": []
    },
    {
      "cell_type": "code",
      "source": [
        "fruits.remove(\"banana\")"
      ],
      "metadata": {
        "id": "nERfNZPrKVWz"
      },
      "id": "nERfNZPrKVWz",
      "execution_count": null,
      "outputs": []
    },
    {
      "cell_type": "code",
      "source": [],
      "metadata": {
        "id": "THKk1CxGKVeu"
      },
      "id": "THKk1CxGKVeu",
      "execution_count": null,
      "outputs": []
    },
    {
      "cell_type": "markdown",
      "source": [
        "# TASK\n",
        "##  Create a list called Students with names and marks for 5 students\n",
        "\n",
        "1. Extract the name and marks of the first 3 students\n",
        "2. Extract the name and marks of the last 2 students\n",
        "3. Extract the name of all the students and marks\n",
        "4. Extract the last item in the list\n",
        "5.  Create a new list called list_2 with names and marks of 2 students\n",
        "6.  Join the two lists and call it all_students\n",
        "7.  Replace the marks for the fist student with 999 and the last students with 122\n",
        "8. Check using the keyword in if a certain name is in the list\n",
        "9. Duplicate the new list\n",
        "10. Change the list to a Tuple instead\n"
      ],
      "metadata": {
        "id": "LzIc_4Ky3pcx"
      },
      "id": "LzIc_4Ky3pcx"
    },
    {
      "cell_type": "code",
      "execution_count": null,
      "id": "82ee3a13-9bcb-4499-b108-832463c1cda5",
      "metadata": {
        "id": "82ee3a13-9bcb-4499-b108-832463c1cda5"
      },
      "outputs": [],
      "source": []
    },
    {
      "cell_type": "code",
      "execution_count": null,
      "id": "7b93f64a-2654-4d05-8040-a10f38811975",
      "metadata": {
        "id": "7b93f64a-2654-4d05-8040-a10f38811975"
      },
      "outputs": [],
      "source": []
    }
  ],
  "metadata": {
    "kernelspec": {
      "display_name": "Python 3 (ipykernel)",
      "language": "python",
      "name": "python3"
    },
    "language_info": {
      "codemirror_mode": {
        "name": "ipython",
        "version": 3
      },
      "file_extension": ".py",
      "mimetype": "text/x-python",
      "name": "python",
      "nbconvert_exporter": "python",
      "pygments_lexer": "ipython3",
      "version": "3.11.7"
    },
    "colab": {
      "provenance": []
    }
  },
  "nbformat": 4,
  "nbformat_minor": 5
}