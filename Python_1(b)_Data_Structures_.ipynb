{
  "cells": [
    {
      "cell_type": "markdown",
      "metadata": {
        "id": "view-in-github",
        "colab_type": "text"
      },
      "source": [
        "<a href=\"https://colab.research.google.com/github/ednamilgo/EASY_ML/blob/main/Python_1(b)_Data_Structures_.ipynb\" target=\"_parent\"><img src=\"https://colab.research.google.com/assets/colab-badge.svg\" alt=\"Open In Colab\"/></a>"
      ]
    },
    {
      "cell_type": "markdown",
      "id": "04fc04cd-245a-4481-a641-e7c095ca843a",
      "metadata": {
        "id": "04fc04cd-245a-4481-a641-e7c095ca843a"
      },
      "source": [
        "# Data Types\n",
        "\n",
        "Python has four main built-in data structures\n",
        "\n",
        "\n",
        "1.   List\n",
        "2.   Tuple\n",
        "3.   Disctionary\n",
        "4.   Set\n"
      ]
    },
    {
      "cell_type": "code",
      "source": [],
      "metadata": {
        "id": "21JBHxcy8aoO"
      },
      "id": "21JBHxcy8aoO",
      "execution_count": null,
      "outputs": []
    },
    {
      "cell_type": "markdown",
      "source": [
        "# 1.  List\n",
        "\n",
        "* A list is an ordered collection that can hold any type of data\n",
        "\n",
        "* Uses square brackets **[]**\n",
        "\n",
        "* It is mutable\n",
        "\n",
        "\n"
      ],
      "metadata": {
        "id": "gUMt-WXK1XAd"
      },
      "id": "gUMt-WXK1XAd"
    },
    {
      "cell_type": "code",
      "execution_count": 1,
      "id": "c0fe3f08-d861-4b36-a873-8297b7c54683",
      "metadata": {
        "id": "c0fe3f08-d861-4b36-a873-8297b7c54683"
      },
      "outputs": [],
      "source": [
        "fruits = [\"apple\", \"banana\", \"mango\"]"
      ]
    },
    {
      "cell_type": "code",
      "source": [
        "fruits[0]"
      ],
      "metadata": {
        "colab": {
          "base_uri": "https://localhost:8080/",
          "height": 35
        },
        "id": "cmFflSwv18Cs",
        "outputId": "5254e2ce-31da-4d0f-e37d-d6abde61b39e"
      },
      "id": "cmFflSwv18Cs",
      "execution_count": 2,
      "outputs": [
        {
          "output_type": "execute_result",
          "data": {
            "text/plain": [
              "'apple'"
            ],
            "application/vnd.google.colaboratory.intrinsic+json": {
              "type": "string"
            }
          },
          "metadata": {},
          "execution_count": 2
        }
      ]
    },
    {
      "cell_type": "code",
      "source": [
        "fruits[2]"
      ],
      "metadata": {
        "colab": {
          "base_uri": "https://localhost:8080/",
          "height": 35
        },
        "id": "wbW0lB1O18F7",
        "outputId": "8aa4498c-50cd-451e-e401-94bef403c46f"
      },
      "id": "wbW0lB1O18F7",
      "execution_count": 3,
      "outputs": [
        {
          "output_type": "execute_result",
          "data": {
            "text/plain": [
              "'mango'"
            ],
            "application/vnd.google.colaboratory.intrinsic+json": {
              "type": "string"
            }
          },
          "metadata": {},
          "execution_count": 3
        }
      ]
    },
    {
      "cell_type": "code",
      "execution_count": 4,
      "id": "b34dd8cc-4b9a-46f4-9434-08cd182d2a15",
      "metadata": {
        "colab": {
          "base_uri": "https://localhost:8080/"
        },
        "id": "b34dd8cc-4b9a-46f4-9434-08cd182d2a15",
        "outputId": "a558f156-4a45-4724-bdcd-d2c9290f6143"
      },
      "outputs": [
        {
          "output_type": "execute_result",
          "data": {
            "text/plain": [
              "list"
            ]
          },
          "metadata": {},
          "execution_count": 4
        }
      ],
      "source": [
        "type(fruits)"
      ]
    },
    {
      "cell_type": "code",
      "source": [
        "fruits_list=[\"mango\",\"apple\", \"Banana\", \"Orange\",\"grape\", \"passion\", \"pineapple\"]"
      ],
      "metadata": {
        "id": "sBG14qh82V0u"
      },
      "id": "sBG14qh82V0u",
      "execution_count": 5,
      "outputs": []
    },
    {
      "cell_type": "code",
      "source": [
        "fruits_list"
      ],
      "metadata": {
        "colab": {
          "base_uri": "https://localhost:8080/"
        },
        "id": "qW1jtjkp2V9x",
        "outputId": "ca638f67-5b2d-4e6d-d752-cef69c6700d1"
      },
      "id": "qW1jtjkp2V9x",
      "execution_count": 6,
      "outputs": [
        {
          "output_type": "execute_result",
          "data": {
            "text/plain": [
              "['mango', 'apple', 'Banana', 'Orange', 'grape', 'passion', 'pineapple']"
            ]
          },
          "metadata": {},
          "execution_count": 6
        }
      ]
    },
    {
      "cell_type": "markdown",
      "source": [
        "## Positive and negative indices"
      ],
      "metadata": {
        "id": "MP7JiQkr-oRT"
      },
      "id": "MP7JiQkr-oRT"
    },
    {
      "cell_type": "code",
      "source": [
        "fruits_list[0]"
      ],
      "metadata": {
        "colab": {
          "base_uri": "https://localhost:8080/",
          "height": 35
        },
        "id": "SpyZrprY2WBE",
        "outputId": "ce9a8272-75b8-44fd-a8e5-96f70991a02d"
      },
      "id": "SpyZrprY2WBE",
      "execution_count": 7,
      "outputs": [
        {
          "output_type": "execute_result",
          "data": {
            "text/plain": [
              "'mango'"
            ],
            "application/vnd.google.colaboratory.intrinsic+json": {
              "type": "string"
            }
          },
          "metadata": {},
          "execution_count": 7
        }
      ]
    },
    {
      "cell_type": "code",
      "source": [
        "fruits_list[1]"
      ],
      "metadata": {
        "colab": {
          "base_uri": "https://localhost:8080/",
          "height": 35
        },
        "id": "SmRF2bBD-KK_",
        "outputId": "415e09ee-5b5d-4973-e6da-8f26e4c2e210"
      },
      "id": "SmRF2bBD-KK_",
      "execution_count": 8,
      "outputs": [
        {
          "output_type": "execute_result",
          "data": {
            "text/plain": [
              "'apple'"
            ],
            "application/vnd.google.colaboratory.intrinsic+json": {
              "type": "string"
            }
          },
          "metadata": {},
          "execution_count": 8
        }
      ]
    },
    {
      "cell_type": "markdown",
      "source": [
        "## Negative indices count from end"
      ],
      "metadata": {
        "id": "LBLD-Hfn95Q4"
      },
      "id": "LBLD-Hfn95Q4"
    },
    {
      "cell_type": "code",
      "source": [
        "fruits_list[-1]"
      ],
      "metadata": {
        "colab": {
          "base_uri": "https://localhost:8080/",
          "height": 35
        },
        "id": "pc3VxUdf93UH",
        "outputId": "f1140428-71cc-4f33-b814-cc292123745c"
      },
      "id": "pc3VxUdf93UH",
      "execution_count": 9,
      "outputs": [
        {
          "output_type": "execute_result",
          "data": {
            "text/plain": [
              "'pineapple'"
            ],
            "application/vnd.google.colaboratory.intrinsic+json": {
              "type": "string"
            }
          },
          "metadata": {},
          "execution_count": 9
        }
      ]
    },
    {
      "cell_type": "markdown",
      "source": [
        "## Slicing: return copy of a subset"
      ],
      "metadata": {
        "id": "wEfaZMnk9g7S"
      },
      "id": "wEfaZMnk9g7S"
    },
    {
      "cell_type": "code",
      "source": [
        "fruits_list[0:2] # range"
      ],
      "metadata": {
        "colab": {
          "base_uri": "https://localhost:8080/"
        },
        "id": "ZsjjfTvD-PQN",
        "outputId": "d7553607-eb4e-46cb-be07-5078de4ce597"
      },
      "id": "ZsjjfTvD-PQN",
      "execution_count": 10,
      "outputs": [
        {
          "output_type": "execute_result",
          "data": {
            "text/plain": [
              "['mango', 'apple']"
            ]
          },
          "metadata": {},
          "execution_count": 10
        }
      ]
    },
    {
      "cell_type": "code",
      "source": [
        "fruits_list[:4] # to index 4"
      ],
      "metadata": {
        "colab": {
          "base_uri": "https://localhost:8080/"
        },
        "id": "nUFnp2Ud-wDm",
        "outputId": "da1b9aec-37fb-43ab-991d-f6a74c28a894"
      },
      "id": "nUFnp2Ud-wDm",
      "execution_count": 11,
      "outputs": [
        {
          "output_type": "execute_result",
          "data": {
            "text/plain": [
              "['mango', 'apple', 'Banana', 'Orange']"
            ]
          },
          "metadata": {},
          "execution_count": 11
        }
      ]
    },
    {
      "cell_type": "code",
      "source": [
        "fruits_list[4:] # from index 4"
      ],
      "metadata": {
        "colab": {
          "base_uri": "https://localhost:8080/"
        },
        "id": "c-CGudZt-wG5",
        "outputId": "8af1891e-adcb-4625-a619-2e2d414c905f"
      },
      "id": "c-CGudZt-wG5",
      "execution_count": 12,
      "outputs": [
        {
          "output_type": "execute_result",
          "data": {
            "text/plain": [
              "['grape', 'passion', 'pineapple']"
            ]
          },
          "metadata": {},
          "execution_count": 12
        }
      ]
    },
    {
      "cell_type": "markdown",
      "source": [
        "## Copying the Whole Sequence"
      ],
      "metadata": {
        "id": "aYduS0Xe9sht"
      },
      "id": "aYduS0Xe9sht"
    },
    {
      "cell_type": "code",
      "source": [
        "fruits_list[:]# all"
      ],
      "metadata": {
        "colab": {
          "base_uri": "https://localhost:8080/"
        },
        "id": "UWm78KCN_EQL",
        "outputId": "0708d682-1e99-4647-a507-3c21b8064453"
      },
      "id": "UWm78KCN_EQL",
      "execution_count": 13,
      "outputs": [
        {
          "output_type": "execute_result",
          "data": {
            "text/plain": [
              "['mango', 'apple', 'Banana', 'Orange', 'grape', 'passion', 'pineapple']"
            ]
          },
          "metadata": {},
          "execution_count": 13
        }
      ]
    },
    {
      "cell_type": "code",
      "source": [
        "fruits_list[:-1] # all upto the last"
      ],
      "metadata": {
        "colab": {
          "base_uri": "https://localhost:8080/"
        },
        "id": "lO8ufmJC_EaM",
        "outputId": "42273b00-9b98-4306-f264-132ff3cada3e"
      },
      "id": "lO8ufmJC_EaM",
      "execution_count": 14,
      "outputs": [
        {
          "output_type": "execute_result",
          "data": {
            "text/plain": [
              "['mango', 'apple', 'Banana', 'Orange', 'grape', 'passion']"
            ]
          },
          "metadata": {},
          "execution_count": 14
        }
      ]
    },
    {
      "cell_type": "markdown",
      "source": [
        "## Reversing he order"
      ],
      "metadata": {
        "id": "t4PwsDXI-Om1"
      },
      "id": "t4PwsDXI-Om1"
    },
    {
      "cell_type": "code",
      "source": [
        "fruits_list[::-1] # Reverse"
      ],
      "metadata": {
        "colab": {
          "base_uri": "https://localhost:8080/"
        },
        "id": "zqlqCETK_Eje",
        "outputId": "70aec95b-0079-4c6c-efa5-abb27e47be4f"
      },
      "id": "zqlqCETK_Eje",
      "execution_count": 15,
      "outputs": [
        {
          "output_type": "execute_result",
          "data": {
            "text/plain": [
              "['pineapple', 'passion', 'grape', 'Orange', 'Banana', 'apple', 'mango']"
            ]
          },
          "metadata": {},
          "execution_count": 15
        }
      ]
    },
    {
      "cell_type": "markdown",
      "source": [
        "## Replacing an item in the list"
      ],
      "metadata": {
        "id": "5iQQqZHU-WPz"
      },
      "id": "5iQQqZHU-WPz"
    },
    {
      "cell_type": "code",
      "execution_count": 16,
      "id": "56d6fe74-761c-48c2-a86c-fa4fcb4d8b80",
      "metadata": {
        "id": "56d6fe74-761c-48c2-a86c-fa4fcb4d8b80"
      },
      "outputs": [],
      "source": [
        "fruits_list[1]=\"new fruit\"  # Replace"
      ]
    },
    {
      "cell_type": "code",
      "execution_count": 17,
      "id": "0120328e-fa79-42b1-87c6-efb855ac86d7",
      "metadata": {
        "colab": {
          "base_uri": "https://localhost:8080/"
        },
        "id": "0120328e-fa79-42b1-87c6-efb855ac86d7",
        "outputId": "3c32411c-0e78-4318-83b7-350053320e9a"
      },
      "outputs": [
        {
          "output_type": "execute_result",
          "data": {
            "text/plain": [
              "['mango', 'new fruit', 'Banana', 'Orange', 'grape', 'passion', 'pineapple']"
            ]
          },
          "metadata": {},
          "execution_count": 17
        }
      ],
      "source": [
        "fruits_list"
      ]
    },
    {
      "cell_type": "markdown",
      "source": [
        "## in operator"
      ],
      "metadata": {
        "id": "rVd6YTVf_aIh"
      },
      "id": "rVd6YTVf_aIh"
    },
    {
      "cell_type": "code",
      "execution_count": 18,
      "id": "a878d131-32f5-4701-b63d-6e5f2943fd09",
      "metadata": {
        "colab": {
          "base_uri": "https://localhost:8080/"
        },
        "id": "a878d131-32f5-4701-b63d-6e5f2943fd09",
        "outputId": "735d13ff-8683-4855-d6bc-950d02e6208f"
      },
      "outputs": [
        {
          "output_type": "execute_result",
          "data": {
            "text/plain": [
              "True"
            ]
          },
          "metadata": {},
          "execution_count": 18
        }
      ],
      "source": [
        "\"mango\" in fruits_list"
      ]
    },
    {
      "cell_type": "markdown",
      "source": [
        "## Combining two lists"
      ],
      "metadata": {
        "id": "Bsdnx3Oj_dSz"
      },
      "id": "Bsdnx3Oj_dSz"
    },
    {
      "cell_type": "code",
      "execution_count": 19,
      "id": "3ae21b8d-de5f-4163-91cf-fe57c597bb62",
      "metadata": {
        "id": "3ae21b8d-de5f-4163-91cf-fe57c597bb62"
      },
      "outputs": [],
      "source": [
        "fruits_list2=[\"watermelom\",50, \"Guava\",25]"
      ]
    },
    {
      "cell_type": "code",
      "execution_count": 20,
      "id": "00cd425c-4f3e-433a-bb5a-441d70ec22c7",
      "metadata": {
        "id": "00cd425c-4f3e-433a-bb5a-441d70ec22c7"
      },
      "outputs": [],
      "source": [
        "combined_list = fruits_list+fruits_list2"
      ]
    },
    {
      "cell_type": "code",
      "execution_count": 21,
      "id": "a8999301-7b32-4aeb-9915-ff08f71b9d5f",
      "metadata": {
        "colab": {
          "base_uri": "https://localhost:8080/"
        },
        "id": "a8999301-7b32-4aeb-9915-ff08f71b9d5f",
        "outputId": "eacbd92b-c0e8-4383-ca9b-0ea8212cedb0"
      },
      "outputs": [
        {
          "output_type": "execute_result",
          "data": {
            "text/plain": [
              "['mango',\n",
              " 'new fruit',\n",
              " 'Banana',\n",
              " 'Orange',\n",
              " 'grape',\n",
              " 'passion',\n",
              " 'pineapple',\n",
              " 'watermelom',\n",
              " 50,\n",
              " 'Guava',\n",
              " 25]"
            ]
          },
          "metadata": {},
          "execution_count": 21
        }
      ],
      "source": [
        "combined_list"
      ]
    },
    {
      "cell_type": "markdown",
      "source": [
        "## Multiplying a list"
      ],
      "metadata": {
        "id": "XKItrsh7_x07"
      },
      "id": "XKItrsh7_x07"
    },
    {
      "cell_type": "code",
      "execution_count": 22,
      "id": "e10138b5-377b-4b73-a090-ec36bbb3e42f",
      "metadata": {
        "colab": {
          "base_uri": "https://localhost:8080/"
        },
        "id": "e10138b5-377b-4b73-a090-ec36bbb3e42f",
        "outputId": "6b30d0a8-687e-4692-e5fb-5a763dab7ae2"
      },
      "outputs": [
        {
          "output_type": "execute_result",
          "data": {
            "text/plain": [
              "['mango',\n",
              " 'new fruit',\n",
              " 'Banana',\n",
              " 'Orange',\n",
              " 'grape',\n",
              " 'passion',\n",
              " 'pineapple',\n",
              " 'mango',\n",
              " 'new fruit',\n",
              " 'Banana',\n",
              " 'Orange',\n",
              " 'grape',\n",
              " 'passion',\n",
              " 'pineapple',\n",
              " 'mango',\n",
              " 'new fruit',\n",
              " 'Banana',\n",
              " 'Orange',\n",
              " 'grape',\n",
              " 'passion',\n",
              " 'pineapple']"
            ]
          },
          "metadata": {},
          "execution_count": 22
        }
      ],
      "source": [
        "fruits_list*3"
      ]
    },
    {
      "cell_type": "markdown",
      "source": [
        "# 2.  Tuple\n",
        "\n",
        "* A simple **immutable** ordered sequence of items\n",
        "\n",
        "* Items can be of mixed types, including collection types\n",
        "* Uses parentheses ()\n",
        "* Items are accessed using their position in the tuple\n",
        "* It is ordered\n",
        "\n"
      ],
      "metadata": {
        "id": "VSlZyL6X_SIc"
      },
      "id": "VSlZyL6X_SIc"
    },
    {
      "cell_type": "code",
      "source": [
        "tu = (23, 'abc', 4.56, (2,3), 'def')"
      ],
      "metadata": {
        "id": "QhzOFCzCAKNv"
      },
      "id": "QhzOFCzCAKNv",
      "execution_count": 23,
      "outputs": []
    },
    {
      "cell_type": "code",
      "source": [
        "tu[0]"
      ],
      "metadata": {
        "colab": {
          "base_uri": "https://localhost:8080/"
        },
        "id": "0AE6ucn-AKQr",
        "outputId": "2516313a-ce8e-4413-deb3-6e7816f9facb"
      },
      "id": "0AE6ucn-AKQr",
      "execution_count": 24,
      "outputs": [
        {
          "output_type": "execute_result",
          "data": {
            "text/plain": [
              "23"
            ]
          },
          "metadata": {},
          "execution_count": 24
        }
      ]
    },
    {
      "cell_type": "code",
      "source": [
        "tu[-1]"
      ],
      "metadata": {
        "colab": {
          "base_uri": "https://localhost:8080/",
          "height": 35
        },
        "id": "ylCh8IauAKUD",
        "outputId": "7148bbb5-2cca-48af-97ed-44c9b6e86a74"
      },
      "id": "ylCh8IauAKUD",
      "execution_count": 25,
      "outputs": [
        {
          "output_type": "execute_result",
          "data": {
            "text/plain": [
              "'def'"
            ],
            "application/vnd.google.colaboratory.intrinsic+json": {
              "type": "string"
            }
          },
          "metadata": {},
          "execution_count": 25
        }
      ]
    },
    {
      "cell_type": "code",
      "source": [
        "type(tu)"
      ],
      "metadata": {
        "colab": {
          "base_uri": "https://localhost:8080/"
        },
        "id": "jOtBk_6iAKXu",
        "outputId": "a8c8704c-a379-492b-ce15-8c6617a90d05"
      },
      "id": "jOtBk_6iAKXu",
      "execution_count": 26,
      "outputs": [
        {
          "output_type": "execute_result",
          "data": {
            "text/plain": [
              "tuple"
            ]
          },
          "metadata": {},
          "execution_count": 26
        }
      ]
    },
    {
      "cell_type": "markdown",
      "source": [
        "## Slicing"
      ],
      "metadata": {
        "id": "pKt5C7HKB4VX"
      },
      "id": "pKt5C7HKB4VX"
    },
    {
      "cell_type": "code",
      "source": [
        "tu[1:4]"
      ],
      "metadata": {
        "colab": {
          "base_uri": "https://localhost:8080/"
        },
        "id": "3ZORvr14B8dd",
        "outputId": "edee8dd3-8e66-4760-85df-34b399076475"
      },
      "id": "3ZORvr14B8dd",
      "execution_count": 27,
      "outputs": [
        {
          "output_type": "execute_result",
          "data": {
            "text/plain": [
              "('abc', 4.56, (2, 3))"
            ]
          },
          "metadata": {},
          "execution_count": 27
        }
      ]
    },
    {
      "cell_type": "code",
      "source": [
        "tu[1:]"
      ],
      "metadata": {
        "colab": {
          "base_uri": "https://localhost:8080/"
        },
        "id": "sNFRtpD_B8gv",
        "outputId": "afd3b784-66cf-452e-c730-832f536ae90c"
      },
      "id": "sNFRtpD_B8gv",
      "execution_count": 28,
      "outputs": [
        {
          "output_type": "execute_result",
          "data": {
            "text/plain": [
              "('abc', 4.56, (2, 3), 'def')"
            ]
          },
          "metadata": {},
          "execution_count": 28
        }
      ]
    },
    {
      "cell_type": "code",
      "source": [
        "tu[::-1]"
      ],
      "metadata": {
        "colab": {
          "base_uri": "https://localhost:8080/"
        },
        "id": "gAnVIvSnB8jR",
        "outputId": "313bfd13-f4d1-4fc2-8535-889f531f1868"
      },
      "id": "gAnVIvSnB8jR",
      "execution_count": 29,
      "outputs": [
        {
          "output_type": "execute_result",
          "data": {
            "text/plain": [
              "('def', (2, 3), 4.56, 'abc', 23)"
            ]
          },
          "metadata": {},
          "execution_count": 29
        }
      ]
    },
    {
      "cell_type": "code",
      "source": [],
      "metadata": {
        "id": "sRfrASV5B8m8"
      },
      "id": "sRfrASV5B8m8",
      "execution_count": 29,
      "outputs": []
    },
    {
      "cell_type": "markdown",
      "source": [
        "#3. Dictionaries\n",
        "\n",
        "* Data structures which are used to store values which are accessed by their keys.\n",
        "* Uses curly braces {}\n",
        "\n",
        "* Dictionaries store a mapping between a set of keys and a set of values\n"
      ],
      "metadata": {
        "id": "am7BBw8s2Wgg"
      },
      "id": "am7BBw8s2Wgg"
    },
    {
      "cell_type": "code",
      "execution_count": 30,
      "id": "65fdf625-da22-440f-930c-27e1ed428c5f",
      "metadata": {
        "id": "65fdf625-da22-440f-930c-27e1ed428c5f"
      },
      "outputs": [],
      "source": [
        "dict1 = {'Ten': 10, 'Twenty': 20, 'Thirty': 30}"
      ]
    },
    {
      "cell_type": "code",
      "source": [
        "dict1"
      ],
      "metadata": {
        "colab": {
          "base_uri": "https://localhost:8080/"
        },
        "id": "xH-hQaX3DMI2",
        "outputId": "b66b73ce-884e-47eb-d796-810b07295cb6"
      },
      "id": "xH-hQaX3DMI2",
      "execution_count": 31,
      "outputs": [
        {
          "output_type": "execute_result",
          "data": {
            "text/plain": [
              "{'Ten': 10, 'Twenty': 20, 'Thirty': 30}"
            ]
          },
          "metadata": {},
          "execution_count": 31
        }
      ]
    },
    {
      "cell_type": "code",
      "source": [
        "type(dict1)"
      ],
      "metadata": {
        "colab": {
          "base_uri": "https://localhost:8080/"
        },
        "id": "3DUU7QkgCqba",
        "outputId": "059259cd-b415-4e9e-a9ef-adf3a1992606"
      },
      "id": "3DUU7QkgCqba",
      "execution_count": 32,
      "outputs": [
        {
          "output_type": "execute_result",
          "data": {
            "text/plain": [
              "dict"
            ]
          },
          "metadata": {},
          "execution_count": 32
        }
      ]
    },
    {
      "cell_type": "code",
      "source": [
        "dict1['Ten']"
      ],
      "metadata": {
        "colab": {
          "base_uri": "https://localhost:8080/"
        },
        "id": "eslHIK42DPVh",
        "outputId": "47368ba6-5259-494f-e82e-27e6732b3687"
      },
      "id": "eslHIK42DPVh",
      "execution_count": 33,
      "outputs": [
        {
          "output_type": "execute_result",
          "data": {
            "text/plain": [
              "10"
            ]
          },
          "metadata": {},
          "execution_count": 33
        }
      ]
    },
    {
      "cell_type": "markdown",
      "source": [
        "## Modifying a key"
      ],
      "metadata": {
        "id": "3V96Rqz6Ehle"
      },
      "id": "3V96Rqz6Ehle"
    },
    {
      "cell_type": "code",
      "source": [
        "dict2 =  {'user':'user1', 'pswd':1234}"
      ],
      "metadata": {
        "id": "tK9c8NrWEjnt"
      },
      "id": "tK9c8NrWEjnt",
      "execution_count": 34,
      "outputs": []
    },
    {
      "cell_type": "code",
      "source": [
        "dict2['user'] = 'John'"
      ],
      "metadata": {
        "id": "ZHT_b5-AEjqo"
      },
      "id": "ZHT_b5-AEjqo",
      "execution_count": 35,
      "outputs": []
    },
    {
      "cell_type": "code",
      "source": [
        "dict2"
      ],
      "metadata": {
        "colab": {
          "base_uri": "https://localhost:8080/"
        },
        "id": "tzlQoQFlEjty",
        "outputId": "10677453-f8c5-468d-dac9-8a4688b7c4a2"
      },
      "id": "tzlQoQFlEjty",
      "execution_count": 36,
      "outputs": [
        {
          "output_type": "execute_result",
          "data": {
            "text/plain": [
              "{'user': 'John', 'pswd': 1234}"
            ]
          },
          "metadata": {},
          "execution_count": 36
        }
      ]
    },
    {
      "cell_type": "markdown",
      "source": [
        "## Adding Elements to a Dictionary"
      ],
      "metadata": {
        "id": "on1bYNJmFaIl"
      },
      "id": "on1bYNJmFaIl"
    },
    {
      "cell_type": "code",
      "source": [
        "dict2['email'] = 'user@Ml.com'"
      ],
      "metadata": {
        "id": "5Cpu3LCXEjx4"
      },
      "id": "5Cpu3LCXEjx4",
      "execution_count": 37,
      "outputs": []
    },
    {
      "cell_type": "code",
      "source": [
        "dict2"
      ],
      "metadata": {
        "colab": {
          "base_uri": "https://localhost:8080/"
        },
        "id": "emWZtK4bEj1X",
        "outputId": "fe757f66-5b21-4987-e6db-8debd03a7318"
      },
      "id": "emWZtK4bEj1X",
      "execution_count": 38,
      "outputs": [
        {
          "output_type": "execute_result",
          "data": {
            "text/plain": [
              "{'user': 'John', 'pswd': 1234, 'email': 'user@Ml.com'}"
            ]
          },
          "metadata": {},
          "execution_count": 38
        }
      ]
    },
    {
      "cell_type": "markdown",
      "source": [
        "## Deleting Elements from a Dictinary\n"
      ],
      "metadata": {
        "id": "IxdYToC2Ftr-"
      },
      "id": "IxdYToC2Ftr-"
    },
    {
      "cell_type": "code",
      "source": [
        "dict2.pop('email')"
      ],
      "metadata": {
        "colab": {
          "base_uri": "https://localhost:8080/",
          "height": 35
        },
        "id": "jK9qDYTUFxbJ",
        "outputId": "541a2080-0440-4b69-eba4-ee81ee15e245"
      },
      "id": "jK9qDYTUFxbJ",
      "execution_count": 39,
      "outputs": [
        {
          "output_type": "execute_result",
          "data": {
            "text/plain": [
              "'user@Ml.com'"
            ],
            "application/vnd.google.colaboratory.intrinsic+json": {
              "type": "string"
            }
          },
          "metadata": {},
          "execution_count": 39
        }
      ]
    },
    {
      "cell_type": "code",
      "source": [
        "dict2"
      ],
      "metadata": {
        "colab": {
          "base_uri": "https://localhost:8080/"
        },
        "id": "HosuARrIFxep",
        "outputId": "627118fd-44bb-4309-9733-59e21c41feab"
      },
      "id": "HosuARrIFxep",
      "execution_count": 40,
      "outputs": [
        {
          "output_type": "execute_result",
          "data": {
            "text/plain": [
              "{'user': 'John', 'pswd': 1234}"
            ]
          },
          "metadata": {},
          "execution_count": 40
        }
      ]
    },
    {
      "cell_type": "code",
      "source": [],
      "metadata": {
        "id": "4QInavd9Fxiw"
      },
      "id": "4QInavd9Fxiw",
      "execution_count": 40,
      "outputs": []
    },
    {
      "cell_type": "markdown",
      "source": [
        "## Other functons\n",
        "\n",
        "\n",
        "* dict.clear()    - Removes all the elements from dictionary dict\n",
        "\n",
        "\n",
        "* dict.copy()    - Returns a copy of dictionary dict\n",
        "* dict.items()     - Returns a list containing a tuple for each key-value pair in dictionary dict\n",
        "* dict.get(k)    - Returns the value of the specified key k from dictionary dict\n",
        "* dict.keys()     - Returns a list containing all the keys of dictionary dict\n",
        "* dic.pop(k)     - Removes the element with the specified key k from dictionary dict\n",
        "* dic.values()   - Returns a list of all the values in dictionary dict\n",
        "\n"
      ],
      "metadata": {
        "id": "SiyJSHHaGGFR"
      },
      "id": "SiyJSHHaGGFR"
    },
    {
      "cell_type": "code",
      "source": [
        "dict2.keys()"
      ],
      "metadata": {
        "id": "d13II_E7Fxmc",
        "colab": {
          "base_uri": "https://localhost:8080/"
        },
        "outputId": "84e3873f-2957-4ada-a538-0d0e0a846bbc"
      },
      "id": "d13II_E7Fxmc",
      "execution_count": 41,
      "outputs": [
        {
          "output_type": "execute_result",
          "data": {
            "text/plain": [
              "dict_keys(['user', 'pswd'])"
            ]
          },
          "metadata": {},
          "execution_count": 41
        }
      ]
    },
    {
      "cell_type": "code",
      "source": [
        "dict2.values()"
      ],
      "metadata": {
        "colab": {
          "base_uri": "https://localhost:8080/"
        },
        "id": "idqzPU17i51b",
        "outputId": "f4013d53-8c67-41f6-8b9d-b26cba9556f3"
      },
      "id": "idqzPU17i51b",
      "execution_count": 42,
      "outputs": [
        {
          "output_type": "execute_result",
          "data": {
            "text/plain": [
              "dict_values(['John', 1234])"
            ]
          },
          "metadata": {},
          "execution_count": 42
        }
      ]
    },
    {
      "cell_type": "markdown",
      "source": [
        "## Convert two lists into a Dictionary\n",
        "\n"
      ],
      "metadata": {
        "id": "CFMVCokDH3R3"
      },
      "id": "CFMVCokDH3R3"
    },
    {
      "cell_type": "code",
      "source": [
        "keys = ['Ten', 'Twenty', 'Thirty']\n",
        "values = [10, 20, 30]"
      ],
      "metadata": {
        "id": "ghMm8n7LFxpF"
      },
      "id": "ghMm8n7LFxpF",
      "execution_count": 43,
      "outputs": []
    },
    {
      "cell_type": "code",
      "source": [
        "combined_dict=dict(zip(keys,values))\n",
        "combined_dict"
      ],
      "metadata": {
        "id": "ya1GkR4UFxs9",
        "colab": {
          "base_uri": "https://localhost:8080/"
        },
        "outputId": "10656adb-9f21-4e16-cdab-427b15ac2773"
      },
      "id": "ya1GkR4UFxs9",
      "execution_count": 55,
      "outputs": [
        {
          "output_type": "execute_result",
          "data": {
            "text/plain": [
              "{'Ten': 10, 'Twenty': 20, 'Thirty': 30}"
            ]
          },
          "metadata": {},
          "execution_count": 55
        }
      ]
    },
    {
      "cell_type": "markdown",
      "source": [
        "## Merge two Python dictionaries"
      ],
      "metadata": {
        "id": "2Zi92em6ISEV"
      },
      "id": "2Zi92em6ISEV"
    },
    {
      "cell_type": "code",
      "source": [
        "dict1 = {'Ten': 10, 'Twenty': 20, 'Thirty': 30}\n",
        "dict2 = {'Fourty': 40, 'Fify': 50, 'sixty':60}"
      ],
      "metadata": {
        "id": "sIm84bMkIKnu"
      },
      "id": "sIm84bMkIKnu",
      "execution_count": 46,
      "outputs": []
    },
    {
      "cell_type": "code",
      "execution_count": 56,
      "id": "859115f8-bb1c-4abb-bd89-95d55718fc0e",
      "metadata": {
        "id": "859115f8-bb1c-4abb-bd89-95d55718fc0e",
        "colab": {
          "base_uri": "https://localhost:8080/"
        },
        "outputId": "3094e771-bb98-4a1e-be43-af23b11a61b7"
      },
      "outputs": [
        {
          "output_type": "execute_result",
          "data": {
            "text/plain": [
              "{'Ten': 10, 'Twenty': 20, 'Thirty': 30, 'Fourty': 40, 'Fify': 50, 'sixty': 60}"
            ]
          },
          "metadata": {},
          "execution_count": 56
        }
      ],
      "source": [
        "merged_dict=dict(**dict1,**dict2)\n",
        "merged_dict"
      ]
    },
    {
      "cell_type": "markdown",
      "source": [
        "# 4. Set\n",
        "\n",
        "* An unordered collection of unique items\n",
        "\n",
        "* Removes duplicates automatically\n",
        "\n",
        "* Uses curly braces {}, but different from dictionaries\n"
      ],
      "metadata": {
        "id": "4-9gTAGKJp7I"
      },
      "id": "4-9gTAGKJp7I"
    },
    {
      "cell_type": "code",
      "source": [
        "fruits_set = {\"apple\", \"banana\"}"
      ],
      "metadata": {
        "id": "s8_S4gbuJw0x"
      },
      "id": "s8_S4gbuJw0x",
      "execution_count": 49,
      "outputs": []
    },
    {
      "cell_type": "code",
      "source": [
        "type(fruits_set)"
      ],
      "metadata": {
        "colab": {
          "base_uri": "https://localhost:8080/"
        },
        "id": "JO8lVfmpJw4m",
        "outputId": "366487dc-6e31-40e5-d52d-0179dd3031d2"
      },
      "id": "JO8lVfmpJw4m",
      "execution_count": 50,
      "outputs": [
        {
          "output_type": "execute_result",
          "data": {
            "text/plain": [
              "set"
            ]
          },
          "metadata": {},
          "execution_count": 50
        }
      ]
    },
    {
      "cell_type": "code",
      "source": [
        "fruits"
      ],
      "metadata": {
        "id": "ZGFQPo7_Jw__",
        "colab": {
          "base_uri": "https://localhost:8080/"
        },
        "outputId": "17f13d62-6245-4e18-9bdd-e96b19f2ec56"
      },
      "id": "ZGFQPo7_Jw__",
      "execution_count": 52,
      "outputs": [
        {
          "output_type": "execute_result",
          "data": {
            "text/plain": [
              "['apple', 'banana', 'mango']"
            ]
          },
          "metadata": {},
          "execution_count": 52
        }
      ]
    },
    {
      "cell_type": "code",
      "source": [
        "\"apple\" in fruits"
      ],
      "metadata": {
        "id": "QTnHWhYsKVTm",
        "colab": {
          "base_uri": "https://localhost:8080/"
        },
        "outputId": "8d5e7e05-01ed-4dbf-af3d-28f12aeb202a"
      },
      "id": "QTnHWhYsKVTm",
      "execution_count": 53,
      "outputs": [
        {
          "output_type": "execute_result",
          "data": {
            "text/plain": [
              "True"
            ]
          },
          "metadata": {},
          "execution_count": 53
        }
      ]
    },
    {
      "cell_type": "code",
      "source": [
        "fruits.remove(\"banana\")"
      ],
      "metadata": {
        "id": "nERfNZPrKVWz"
      },
      "id": "nERfNZPrKVWz",
      "execution_count": 54,
      "outputs": []
    },
    {
      "cell_type": "code",
      "source": [],
      "metadata": {
        "id": "THKk1CxGKVeu"
      },
      "id": "THKk1CxGKVeu",
      "execution_count": null,
      "outputs": []
    },
    {
      "cell_type": "markdown",
      "source": [
        "# TASK\n",
        "##  Create a list called Students with names and marks for 5 students\n",
        "\n",
        "1. Extract the name and marks of the first 3 students\n",
        "2. Extract the name and marks of the last 2 students\n",
        "3. Extract the name of all the students and marks\n",
        "4. Extract the last item in the list\n",
        "5.  Create a new list called list_2 with names and marks of 2 students\n",
        "6.  Join the two lists and call it all_students\n",
        "7.  Replace the marks for the fist student with 999 and the last students with 122\n",
        "8. Check using the keyword in if a certain name is in the list\n",
        "9. Duplicate the new list\n",
        "10. Change the list to a Tuple instead\n"
      ],
      "metadata": {
        "id": "LzIc_4Ky3pcx"
      },
      "id": "LzIc_4Ky3pcx"
    },
    {
      "cell_type": "code",
      "execution_count": null,
      "id": "82ee3a13-9bcb-4499-b108-832463c1cda5",
      "metadata": {
        "id": "82ee3a13-9bcb-4499-b108-832463c1cda5"
      },
      "outputs": [],
      "source": []
    },
    {
      "cell_type": "code",
      "execution_count": null,
      "id": "7b93f64a-2654-4d05-8040-a10f38811975",
      "metadata": {
        "id": "7b93f64a-2654-4d05-8040-a10f38811975"
      },
      "outputs": [],
      "source": []
    }
  ],
  "metadata": {
    "kernelspec": {
      "display_name": "Python 3 (ipykernel)",
      "language": "python",
      "name": "python3"
    },
    "language_info": {
      "codemirror_mode": {
        "name": "ipython",
        "version": 3
      },
      "file_extension": ".py",
      "mimetype": "text/x-python",
      "name": "python",
      "nbconvert_exporter": "python",
      "pygments_lexer": "ipython3",
      "version": "3.11.7"
    },
    "colab": {
      "provenance": [],
      "include_colab_link": true
    }
  },
  "nbformat": 4,
  "nbformat_minor": 5
}